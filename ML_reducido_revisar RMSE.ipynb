{
 "cells": [
  {
   "cell_type": "markdown",
   "metadata": {},
   "source": [
    "# TFM: MACHINE LEARNING\n",
    "## Degradación de un sistema fotovoltáico \n",
    "## Luis Julián García Giménez"
   ]
  },
  {
   "cell_type": "code",
   "execution_count": 161,
   "metadata": {},
   "outputs": [],
   "source": [
    "import pandas as pd\n",
    "import numpy as np\n",
    "import matplotlib.pyplot as plt\n",
    "\n",
    "path_ni='/Users/LuisGarcia/Desktop/TFM/no_interpolados_no_z_n_cc/'\n",
    "path_ima='/Users/LuisGarcia/Desktop/TFM/imagenes_no_z_n_cc/ML/'\n",
    "\n",
    "df1_ni=pd.read_csv(path_ni + 'df1_ni.csv')\n",
    "df2_ni=pd.read_csv(path_ni + 'df2_ni.csv')\n",
    "df3_ni=pd.read_csv(path_ni + 'df3_ni.csv')\n",
    "df4_ni=pd.read_csv(path_ni + 'df4_ni.csv')\n",
    "\n",
    "#RENOMBRAR COLUMNAS\n",
    "#media_poa --> poa\n",
    "#media_temp --> Tcell\n",
    "df1_ni = df1_ni.rename(columns = {\"media_poa\": \"poa\" , \"media_temp\": \"Tcell\"})\n",
    "df2_ni = df2_ni.rename(columns = {\"media_poa\": \"poa\" , \"media_temp\": \"Tcell\"})\n",
    "df3_ni = df3_ni.rename(columns = {\"media_poa\": \"poa\" , \"media_temp\": \"Tcell\"})\n",
    "df4_ni = df4_ni.rename(columns = {\"media_poa\": \"poa\" , \"media_temp\": \"Tcell\"})\n"
   ]
  },
  {
   "cell_type": "code",
   "execution_count": 137,
   "metadata": {},
   "outputs": [
    {
     "data": {
      "text/html": [
       "<div>\n",
       "<style scoped>\n",
       "    .dataframe tbody tr th:only-of-type {\n",
       "        vertical-align: middle;\n",
       "    }\n",
       "\n",
       "    .dataframe tbody tr th {\n",
       "        vertical-align: top;\n",
       "    }\n",
       "\n",
       "    .dataframe thead th {\n",
       "        text-align: right;\n",
       "    }\n",
       "</style>\n",
       "<table border=\"1\" class=\"dataframe\">\n",
       "  <thead>\n",
       "    <tr style=\"text-align: right;\">\n",
       "      <th></th>\n",
       "      <th>Timestamp</th>\n",
       "      <th>power</th>\n",
       "      <th>poa</th>\n",
       "      <th>Tcell</th>\n",
       "    </tr>\n",
       "  </thead>\n",
       "  <tbody>\n",
       "    <tr>\n",
       "      <th>0</th>\n",
       "      <td>2013-01-01 08:00:00</td>\n",
       "      <td>39.5549</td>\n",
       "      <td>6.02</td>\n",
       "      <td>1.87</td>\n",
       "    </tr>\n",
       "    <tr>\n",
       "      <th>1</th>\n",
       "      <td>2013-01-01 08:15:00</td>\n",
       "      <td>1211.6331</td>\n",
       "      <td>32.03</td>\n",
       "      <td>2.40</td>\n",
       "    </tr>\n",
       "    <tr>\n",
       "      <th>2</th>\n",
       "      <td>2013-01-01 08:30:00</td>\n",
       "      <td>5973.3571</td>\n",
       "      <td>53.33</td>\n",
       "      <td>3.20</td>\n",
       "    </tr>\n",
       "    <tr>\n",
       "      <th>3</th>\n",
       "      <td>2013-01-01 08:45:00</td>\n",
       "      <td>11922.0651</td>\n",
       "      <td>88.55</td>\n",
       "      <td>3.16</td>\n",
       "    </tr>\n",
       "    <tr>\n",
       "      <th>4</th>\n",
       "      <td>2013-01-01 09:00:00</td>\n",
       "      <td>30104.7989</td>\n",
       "      <td>229.69</td>\n",
       "      <td>6.77</td>\n",
       "    </tr>\n",
       "    <tr>\n",
       "      <th>...</th>\n",
       "      <td>...</td>\n",
       "      <td>...</td>\n",
       "      <td>...</td>\n",
       "      <td>...</td>\n",
       "    </tr>\n",
       "    <tr>\n",
       "      <th>112174</th>\n",
       "      <td>2020-12-31 15:45:00</td>\n",
       "      <td>35152.3820</td>\n",
       "      <td>350.71</td>\n",
       "      <td>23.05</td>\n",
       "    </tr>\n",
       "    <tr>\n",
       "      <th>112175</th>\n",
       "      <td>2020-12-31 16:00:00</td>\n",
       "      <td>28141.7409</td>\n",
       "      <td>293.50</td>\n",
       "      <td>21.91</td>\n",
       "    </tr>\n",
       "    <tr>\n",
       "      <th>112176</th>\n",
       "      <td>2020-12-31 16:15:00</td>\n",
       "      <td>19683.2489</td>\n",
       "      <td>223.41</td>\n",
       "      <td>20.05</td>\n",
       "    </tr>\n",
       "    <tr>\n",
       "      <th>112177</th>\n",
       "      <td>2020-12-31 16:30:00</td>\n",
       "      <td>5446.8400</td>\n",
       "      <td>79.22</td>\n",
       "      <td>15.92</td>\n",
       "    </tr>\n",
       "    <tr>\n",
       "      <th>112178</th>\n",
       "      <td>2020-12-31 16:45:00</td>\n",
       "      <td>518.7540</td>\n",
       "      <td>16.39</td>\n",
       "      <td>10.15</td>\n",
       "    </tr>\n",
       "  </tbody>\n",
       "</table>\n",
       "<p>112179 rows × 4 columns</p>\n",
       "</div>"
      ],
      "text/plain": [
       "                  Timestamp       power     poa  Tcell\n",
       "0       2013-01-01 08:00:00     39.5549    6.02   1.87\n",
       "1       2013-01-01 08:15:00   1211.6331   32.03   2.40\n",
       "2       2013-01-01 08:30:00   5973.3571   53.33   3.20\n",
       "3       2013-01-01 08:45:00  11922.0651   88.55   3.16\n",
       "4       2013-01-01 09:00:00  30104.7989  229.69   6.77\n",
       "...                     ...         ...     ...    ...\n",
       "112174  2020-12-31 15:45:00  35152.3820  350.71  23.05\n",
       "112175  2020-12-31 16:00:00  28141.7409  293.50  21.91\n",
       "112176  2020-12-31 16:15:00  19683.2489  223.41  20.05\n",
       "112177  2020-12-31 16:30:00   5446.8400   79.22  15.92\n",
       "112178  2020-12-31 16:45:00    518.7540   16.39  10.15\n",
       "\n",
       "[112179 rows x 4 columns]"
      ]
     },
     "execution_count": 137,
     "metadata": {},
     "output_type": "execute_result"
    }
   ],
   "source": [
    "df1_ni"
   ]
  },
  {
   "cell_type": "code",
   "execution_count": 138,
   "metadata": {},
   "outputs": [
    {
     "data": {
      "image/png": "[encoded data removed]",
      "text/plain": [
       "<Figure size 720x504 with 1 Axes>"
      ]
     },
     "metadata": {
      "needs_background": "light"
     },
     "output_type": "display_data"
    },
    {
     "data": {
      "image/png": "[encoded data removed]",
      "text/plain": [
       "<Figure size 720x504 with 1 Axes>"
      ]
     },
     "metadata": {
      "needs_background": "light"
     },
     "output_type": "display_data"
    }
   ],
   "source": [
    "def plotear_500_muestras(df, var):\n",
    "    \n",
    "    sample_power = df.sample(500)\n",
    "    #sample_power = df['power'].sample(5000)\n",
    "    \n",
    "    if var == \"poa\" :\n",
    "        color='magenta'\n",
    "    if var == \"Tcell\" :\n",
    "        color='blue'\n",
    "    \n",
    "    sample_power.plot(style=\".\", x=var, y='power', color=color, alpha=0.5, figsize=(10, 7))\n",
    "    plt.title('Relación entre power y ' + var, size=20)\n",
    "    plt.xlabel(var, size=18)\n",
    "    plt.ylabel('power', size=18);\n",
    "    \n",
    "    nombre_img=\"plotear_500_muestras_\" + var + \".png\"\n",
    "    plt.savefig(path_ima + nombre_img)\n",
    "    \n",
    "plotear_500_muestras(df1_ni, \"poa\")\n",
    "plotear_500_muestras(df1_ni, \"Tcell\")"
   ]
  },
  {
   "cell_type": "markdown",
   "metadata": {},
   "source": [
    "## Valores para predecir"
   ]
  },
  {
   "cell_type": "code",
   "execution_count": 139,
   "metadata": {},
   "outputs": [
    {
     "name": "stdout",
     "output_type": "stream",
     "text": [
      "Para cuando poa está entre: 290-300 la potencia suele ser: \n",
      "                  Timestamp       power     poa  Tcell\n",
      "205     2013-01-06 16:00:00  32778.9789  291.93  20.04\n",
      "295     2013-01-09 11:30:00  57140.8600  297.54  22.03\n",
      "384     2013-01-11 15:45:00  56604.5640  298.52  17.31\n",
      "421     2013-01-12 15:30:00  55454.5200  294.14  20.86\n",
      "487     2013-01-14 13:30:00  59570.6580  296.84  20.60\n",
      "...                     ...         ...     ...    ...\n",
      "111928  2020-12-24 10:45:00  51867.0249  293.27  21.20\n",
      "112022  2020-12-27 09:15:00  31600.7811  299.21  11.34\n",
      "112124  2020-12-30 11:45:00  49560.4660  294.51  25.82\n",
      "112127  2020-12-30 12:30:00  53853.8000  298.37  17.81\n",
      "112175  2020-12-31 16:00:00  28141.7409  293.50  21.91\n",
      "\n",
      "[985 rows x 4 columns]\n"
     ]
    }
   ],
   "source": [
    "def detectar_power(df, var):\n",
    "    \n",
    "    if var == \"poa\":\n",
    "        limite1= 290\n",
    "        limite2= 300\n",
    "    if var == \"Tcell\":\n",
    "        limite1= 20\n",
    "        limite2= 25\n",
    "    \n",
    "    mascara = (df[var] > limite1) & (df[var] <= limite2) \n",
    "    pot=df.loc[mascara]\n",
    "    print(\"Para cuando \" + var + \" está entre: \" + str(limite1) + \"-\" + str(limite2) + \" la potencia suele ser: \")\n",
    "    print(pot)\n",
    "    \n",
    "detectar_power(df1_ni, \"poa\")\n",
    "#detectar_power(df1_ni, \"Tcell\")"
   ]
  },
  {
   "cell_type": "markdown",
   "metadata": {},
   "source": [
    "\n",
    "Por lo que me quedo con los datos del 2013-01-14 a las 13:30: \n",
    "\n",
    "Timestamp:2013-01-14 13:30:00  \n",
    "\n",
    "Power: 57730.0  \n",
    "\n",
    "Poa: 296.84 \n",
    "\n",
    "Tcell: 20.60\n",
    "\n",
    "Estos valores son los que voy a utilizar para predecir en los modelos que voy a crear, y por lo tanto tener una referencia de si mi predicción tiene sentido y es lo suficientemente precisa o no."
   ]
  },
  {
   "cell_type": "markdown",
   "metadata": {},
   "source": [
    "## Regresión Lineal\n",
    "\n"
   ]
  },
  {
   "cell_type": "code",
   "execution_count": 140,
   "metadata": {},
   "outputs": [],
   "source": [
    "from sklearn.linear_model import LinearRegression\n",
    "\n",
    "def graficas_regresion_lineal_simple(df, var):\n",
    "    print()\n",
    "    print(\"Predecir power usando: \" + var)\n",
    "    \n",
    "    x =df[[var]]\n",
    "    y =df[[\"power\"]]\n",
    "    \n",
    "    #crear scatterplot\n",
    "    fig, ax = plt.subplots(figsize=(12, 6))\n",
    "\n",
    "    ax.plot(x, y, 'o')\n",
    "    ax.set_title('Power vs ' + var , fontsize=14)\n",
    "    ax.set_ylabel('power', fontsize=14)\n",
    "    ax.set_xlabel(var, fontsize=14)\n",
    "    \n",
    "    \n",
    "    x_train, x_test, y_train, y_test = train_test_split(x, y, test_size=0.30, random_state=42)\n",
    "    regr = LinearRegression()\n",
    "    regr.fit(x_train, y_train)\n",
    "    \n",
    "    #obtener pendiente y termino independiente de la recta regresión\n",
    "    \n",
    "    m=regr.coef_ #pendiente\n",
    "    n=regr.intercept_ #termino independiente\n",
    "    \n",
    "    #añadir la recta al scatterplot\n",
    "    ax.plot(x, m*x+n) #y=mx+n\n",
    "    \n",
    "    nombre_img=\"graficas_regresion_lineal_simple_\" + var + \".png\"\n",
    "    plt.savefig(path_ima + nombre_img)"
   ]
  },
  {
   "cell_type": "code",
   "execution_count": 141,
   "metadata": {},
   "outputs": [
    {
     "name": "stdout",
     "output_type": "stream",
     "text": [
      "\n",
      "Predecir power usando: poa\n"
     ]
    },
    {
     "data": {
      "image/png": "[encoded data removed]",
      "text/plain": [
       "<Figure size 864x432 with 1 Axes>"
      ]
     },
     "metadata": {
      "needs_background": "light"
     },
     "output_type": "display_data"
    }
   ],
   "source": [
    "graficas_regresion_lineal_simple(df1_ni, \"poa\")"
   ]
  },
  {
   "cell_type": "code",
   "execution_count": 142,
   "metadata": {},
   "outputs": [
    {
     "name": "stdout",
     "output_type": "stream",
     "text": [
      "\n",
      "Predecir power usando: Tcell\n"
     ]
    },
    {
     "data": {
      "image/png": "[encoded data removed]",
      "text/plain": [
       "<Figure size 864x432 with 1 Axes>"
      ]
     },
     "metadata": {
      "needs_background": "light"
     },
     "output_type": "display_data"
    }
   ],
   "source": [
    "graficas_regresion_lineal_simple(df1_ni, \"Tcell\")"
   ]
  },
  {
   "cell_type": "code",
   "execution_count": 143,
   "metadata": {},
   "outputs": [],
   "source": [
    "from sklearn.model_selection import train_test_split\n",
    "from sklearn import linear_model\n",
    "from sklearn.metrics import mean_squared_error\n",
    "from sklearn.metrics import r2_score\n",
    "\n",
    "\n",
    "#Regresión lineal una variable\n",
    "\n",
    "def regresion_lineal_simple(df, var):\n",
    "    print()\n",
    "    print(\"Predecir power usando: \" + var)\n",
    "    \n",
    "    x =df[[var]]\n",
    "    y =df[[\"power\"]]\n",
    "    \n",
    "    x_train, x_test, y_train, y_test = train_test_split(x, y, test_size=0.30, random_state=42)\n",
    "\n",
    "    # Creamos el objeto de Regresión Linear\n",
    "    regr = linear_model.LinearRegression()\n",
    "\n",
    "    # Entrenamos nuestro modelo\n",
    "    regr.fit(x_train, y_train)\n",
    "\n",
    "    #Prediccion que es una línea \n",
    "    y_pred = regr.predict(x_test)\n",
    "\n",
    "    #Coeficiente\n",
    "    print('Coeficiente: ', regr.coef_)\n",
    "\n",
    "    # Este es el valor donde corta el eje Y (en X=0)\n",
    "    print('Termino independiente: ', regr.intercept_)\n",
    "\n",
    "    #RECTA\n",
    "    response = regr.predict(x)\n",
    "    fig, ax = plt.subplots(figsize=(8, 4))\n",
    "    ax.plot(x, response, color='green', label='Modelo de Regresion')\n",
    "    ax.scatter(x, y, edgecolor='blue', facecolor='blue', alpha=0.7, label='Muestras')\n",
    "    ax.set_ylabel('power', fontsize=14)\n",
    "    ax.set_xlabel(var, fontsize=14)\n",
    "    ax.legend(facecolor='white', fontsize=11)\n",
    "    ax.set_title('Power vs ' + var)\n",
    "    fig.tight_layout()\n",
    "    \n",
    "    nombre_img=\"regresion_lineal_simple_\" + var + \".png\"\n",
    "    plt.savefig(path_ima + nombre_img)\n",
    "\n",
    "\n",
    "    # Error Cuadrado Medio\n",
    "    mse= mean_squared_error(y_test, y_pred)\n",
    "    rmse=np.sqrt(mse)\n",
    "    print(\"RMSE: %.5f\" % rmse)\n",
    "    \n",
    "    r2=r2_score(y_test, y_pred)\n",
    "    print('R^2: %.5f' % r2)\n",
    "    \n",
    "    if var == \"poa\":\n",
    "        #PREDECIR\n",
    "        #poa= 296.84 --> power: 57730.0 \n",
    "        y_predicha = regr.predict([[296.84]])\n",
    "        print()\n",
    "        print(\"Para un poa de 296.84, debería dar alrededor de: power= 57730.0\")\n",
    "        print(\"Y con poa = 296.84 hemos predicho que da: \", y_predicha)\n",
    "        \n",
    "    if var == \"Tcell\":\n",
    "        #PREDECIR\n",
    "        #Tcell= 20.60--> power: 57730.0\n",
    "        y_predicha = regr.predict([[20.60]])\n",
    "        print()\n",
    "        print(\"Para un Tcell de 20.6, debería dar alrededor de: power= 57730.0\")\n",
    "        print(\"Y con Tcell= 20.6 hemos predicho que da: \", y_predicha)\n",
    "\n",
    "    return rmse, r2\n",
    "\n",
    "#Si tenemos un Error Cuadrático medio muy grande el modelo no será muy bueno\n",
    "#El R^2 debería ser cercano a 1 para que nuestro modelo realice predicciones con alta precisión\n",
    "\n",
    "#--------------------------------------------------------------------------------------------------\n",
    "\n",
    "#Regresión Lineal Múltiple\n",
    "#Y = b + m1 X1 + m2 X2 + … + m(n) X(n)\n",
    "#En nuestro caso, utilizaremos 2 “variables predictivas” para poder graficar en 3D,\n",
    "def regresion_lineal_mul(df):\n",
    "    print()\n",
    "    print(\"Predecir power usando: poa y Tcell\" )\n",
    "    \n",
    "    x =df[[\"poa\",\"Tcell\"]]\n",
    "    y =df[[\"power\"]]\n",
    "\n",
    "    x_train, x_test, y_train, y_test = train_test_split(x, y, test_size=0.30, random_state=42)\n",
    "    \n",
    "    \n",
    "    # Creamos un nuevo objeto de Regresión Lineal\n",
    "    regr = linear_model.LinearRegression()\n",
    "\n",
    "    # Entrenamos el modelo, esta vez, con 2 dimensiones\n",
    "    # obtendremos 2 coeficientes, para graficar un plano\n",
    "    regr.fit(x_train, y_train)\n",
    "\n",
    "    # Hacemos la predicción con la que tendremos puntos sobre el plano hallado\n",
    "    y_pred = regr.predict(x_test)\n",
    "    \n",
    "    # Los coeficientes\n",
    "    print('Coeficientes: ', regr.coef_)\n",
    "    \n",
    "    print('Termino independiente: ', regr.intercept_)\n",
    "    \n",
    "    # Error Cuadrado Medio\n",
    "    \n",
    "    mse= mean_squared_error(y_test, y_pred)\n",
    "    rmse=np.sqrt(mse)\n",
    "    print(\"RMSE: %.5f\" % rmse)\n",
    "    \n",
    "    # R^2 (siendo 1.0 el mejor posible)\n",
    "\n",
    "    r2=r2_score(y_test, y_pred)\n",
    "    print('R^2: %.5f' % r2)\n",
    "    \n",
    "    return rmse, r2\n",
    "\n"
   ]
  },
  {
   "cell_type": "markdown",
   "metadata": {},
   "source": [
    "## 1 Iteración"
   ]
  },
  {
   "cell_type": "code",
   "execution_count": 144,
   "metadata": {},
   "outputs": [
    {
     "name": "stdout",
     "output_type": "stream",
     "text": [
      "------------------------------------------------------------------------------------------\n",
      "\n",
      "Predecir power usando: poa\n",
      "Coeficiente:  [[168.57743292]]\n",
      "Termino independiente:  [929.12605781]\n",
      "RMSE: 7035.62674\n",
      "R^2: 0.98257\n",
      "\n",
      "Para un poa de 296.84, debería dar alrededor de: power= 57730.0\n",
      "Y con poa = 296.84 hemos predicho que da:  [[50969.65124505]]\n",
      "------------------------------------------------------------------------------------------\n",
      "\n",
      "Predecir power usando: Tcell\n",
      "Coeficiente:  [[3355.21991231]]\n",
      "Termino independiente:  [-26551.23327073]\n",
      "RMSE: 32075.04540\n",
      "R^2: 0.63770\n",
      "\n",
      "Para un Tcell de 20.6, debería dar alrededor de: power= 57730.0\n",
      "Y con Tcell= 20.6 hemos predicho que da:  [[42566.29692281]]\n",
      "------------------------------------------------------------------------------------------\n",
      "\n",
      "Predecir power usando: poa y Tcell\n",
      "Coeficientes:  [[ 179.47678708 -324.93271842]]\n",
      "Termino independiente:  [5828.86070971]\n",
      "RMSE: 6634.02618\n",
      "R^2: 0.98450\n"
     ]
    },
    {
     "data": {
      "image/png": "[encoded data removed]",
      "text/plain": [
       "<Figure size 576x288 with 1 Axes>"
      ]
     },
     "metadata": {
      "needs_background": "light"
     },
     "output_type": "display_data"
    },
    {
     "data": {
      "image/png": "[encoded data removed]",
      "text/plain": [
       "<Figure size 576x288 with 1 Axes>"
      ]
     },
     "metadata": {
      "needs_background": "light"
     },
     "output_type": "display_data"
    }
   ],
   "source": [
    "#SOLO 1 EXPERIMENTO\n",
    "\n",
    "print(\"------------------------------------------------------------------------------------------\")\n",
    "rmse_poa, r2_poa=regresion_lineal_simple(df1_ni, \"poa\")\n",
    "    \n",
    "print(\"------------------------------------------------------------------------------------------\")\n",
    "rmse_tcell, r2_tcell=regresion_lineal_simple(df1_ni, \"Tcell\")\n",
    "\n",
    "print(\"------------------------------------------------------------------------------------------\")\n",
    "rmse, r2 = regresion_lineal_mul(df1_ni)\n"
   ]
  },
  {
   "cell_type": "markdown",
   "metadata": {},
   "source": [
    "## 30 Iteraciones"
   ]
  },
  {
   "cell_type": "code",
   "execution_count": 145,
   "metadata": {},
   "outputs": [
    {
     "name": "stdout",
     "output_type": "stream",
     "text": [
      "RMSE POA:  7035.626744454087\n",
      "R2 POA:  0.9825682857854449\n",
      "---------------------------------\n",
      "RMSE TCELL:  32075.045396978752\n",
      "R2 TCELL:  0.6376993823362553\n",
      "---------------------------------\n",
      "RMSE POA Y TCELL:  6634.026175195952\n",
      "R2 POA Y TCELLL:  0.9845015282340069\n"
     ]
    }
   ],
   "source": [
    "\n",
    "import statistics\n",
    "\n",
    "def regresion_lineal_simple(df, var):\n",
    "\n",
    "    x =df[[var]]\n",
    "    y =df[[\"power\"]]\n",
    "    \n",
    "    x_train, x_test, y_train, y_test = train_test_split(x, y, test_size=0.30, random_state=42)\n",
    "\n",
    "    regr = linear_model.LinearRegression()\n",
    "    regr.fit(x_train, y_train)\n",
    "    y_pred = regr.predict(x_test)\n",
    "\n",
    "    mse= mean_squared_error(y_test, y_pred)\n",
    "\n",
    "    rmse=np.sqrt(mse)\n",
    "    r2=r2_score(y_test, y_pred)\n",
    "\n",
    "    return rmse, r2\n",
    "\n",
    "#--------------------------------------------------------------------------------------------------\n",
    "\n",
    "def regresion_lineal_mul(df):\n",
    "    \n",
    "    x =df[[\"poa\",\"Tcell\"]]\n",
    "    y =df[[\"power\"]]\n",
    "\n",
    "    x_train, x_test, y_train, y_test = train_test_split(x, y, test_size=0.30, random_state=42)\n",
    "\n",
    "    regr = linear_model.LinearRegression()\n",
    "    regr.fit(x_train, y_train)\n",
    "    y_pred = regr.predict(x_test)\n",
    "    \n",
    "    mse= mean_squared_error(y_test, y_pred)\n",
    "    rmse=np.sqrt(mse)\n",
    "    r2=r2_score(y_test, y_pred)\n",
    "\n",
    "    return rmse, r2\n",
    "\n",
    "\n",
    "lista_rmse_poa=[]\n",
    "lista_rmse_tcell=[]\n",
    "lista_rmse=[]\n",
    "\n",
    "lista_r2_poa=[]\n",
    "lista_r2_tcell=[]\n",
    "lista_r2=[]\n",
    "\n",
    "for i in range(30):\n",
    "    \n",
    "    rmse_poa, r2_poa=regresion_lineal_simple(df1_ni, \"poa\")\n",
    "    lista_rmse_poa.append(rmse_poa)\n",
    "    lista_r2_poa.append(r2_poa)\n",
    "    #------------------------------------------------------------------------------------------\n",
    "    rmse_tcell, r2_tcell=regresion_lineal_simple(df1_ni, \"Tcell\")\n",
    "    lista_rmse_tcell.append(rmse_tcell)\n",
    "    lista_r2_tcell.append(r2_tcell)\n",
    "    #------------------------------------------------------------------------------------------\n",
    "    rmse, r2 = regresion_lineal_mul(df1_ni)\n",
    "    lista_rmse.append(rmse)\n",
    "    lista_r2.append(r2)\n",
    "    \n",
    "#POA\n",
    "media_rmse_poa = statistics.mean(lista_rmse_poa)\n",
    "media_r2_poa = statistics.mean(lista_r2_poa)\n",
    "\n",
    "#TCELL\n",
    "media_rmse_tcell = statistics.mean(lista_rmse_tcell)\n",
    "media_r2_tcell = statistics.mean(lista_r2_tcell)\n",
    "\n",
    "#POA Y TCELL\n",
    "media_rmse = statistics.mean(lista_rmse)\n",
    "media_r2 = statistics.mean(lista_r2)\n",
    "\n",
    "\n",
    "print(\"RMSE POA: \", media_rmse_poa)\n",
    "print(\"R2 POA: \", media_r2_poa)\n",
    "\n",
    "print(\"---------------------------------\")\n",
    "print(\"RMSE TCELL: \", media_rmse_tcell)\n",
    "print(\"R2 TCELL: \", media_r2_tcell)\n",
    "\n",
    "print(\"---------------------------------\")\n",
    "print(\"RMSE POA Y TCELL: \", media_rmse)\n",
    "print(\"R2 POA Y TCELLL: \", media_r2)"
   ]
  },
  {
   "cell_type": "markdown",
   "metadata": {},
   "source": [
    "## Random Forest sin parametros\n",
    "\n"
   ]
  },
  {
   "cell_type": "code",
   "execution_count": 146,
   "metadata": {},
   "outputs": [
    {
     "name": "stdout",
     "output_type": "stream",
     "text": [
      "\n",
      "Predecir power usando: poa\n"
     ]
    },
    {
     "name": "stderr",
     "output_type": "stream",
     "text": [
      "<ipython-input-146-272f9779cc97>:20: DataConversionWarning: A column-vector y was passed when a 1d array was expected. Please change the shape of y to (n_samples,), for example using ravel().\n",
      "  rf.fit(x_train, y_train)\n"
     ]
    },
    {
     "name": "stdout",
     "output_type": "stream",
     "text": [
      "rmse  7315.128582466836\n",
      "\n",
      "Predecir power usando: Tcell\n"
     ]
    },
    {
     "name": "stderr",
     "output_type": "stream",
     "text": [
      "<ipython-input-146-272f9779cc97>:20: DataConversionWarning: A column-vector y was passed when a 1d array was expected. Please change the shape of y to (n_samples,), for example using ravel().\n",
      "  rf.fit(x_train, y_train)\n"
     ]
    },
    {
     "name": "stdout",
     "output_type": "stream",
     "text": [
      "rmse  32367.428931997063\n",
      "\n",
      "Predecir power usando: poa y Tcell\n",
      "RMSE:  5632.1091684381945\n"
     ]
    }
   ],
   "source": [
    "from sklearn.model_selection import train_test_split\n",
    "from sklearn.ensemble import RandomForestRegressor\n",
    "from sklearn.metrics import mean_squared_error\n",
    "import statistics\n",
    "\n",
    "def randomforest_simple_sin_p(df, var):\n",
    "    print()\n",
    "    print(\"Predecir power usando: \" + var)\n",
    "    \n",
    "    \n",
    "    x = df[var].values.reshape(-1, 1)\n",
    "    y = df[\"power\"].values.reshape(-1, 1)\n",
    "    \n",
    "    \n",
    "    x_train, x_test, y_train, y_test = train_test_split(x, y, test_size=0.30, random_state=42)\n",
    "    \n",
    "            \n",
    "    rf=RandomForestRegressor()\n",
    "    \n",
    "    rf.fit(x_train, y_train)\n",
    "    #.values.ravel()\n",
    "\n",
    "    y_pred=rf.predict(x_test)\n",
    "\n",
    "    \n",
    "    mse=mean_squared_error(y_test, y_pred)\n",
    "    rmse=np.sqrt(mse)\n",
    "    print(\"rmse \", rmse )\n",
    "    \n",
    "def randomforest_mul_sin_p(df):\n",
    "    print()\n",
    "    print(\"Predecir power usando: poa y Tcell\")\n",
    "    \n",
    "    y = df['power']\n",
    "    x = df.drop(['Timestamp', 'power'], axis =1)\n",
    "    x_train, x_test, y_train, y_test = train_test_split(x, y, test_size = 0.3, random_state=42)\n",
    "    \n",
    "    rf = RandomForestRegressor()\n",
    "    \n",
    "    rf.fit(x_train, y_train)\n",
    "        \n",
    "\n",
    "    y_pred = rf.predict(x_test)\n",
    "    \n",
    "    mse_rf= mean_squared_error(y_test,y_pred)\n",
    "    rmse_rf= np.sqrt(mse_rf)\n",
    "    \n",
    "    \n",
    "    print('RMSE: ', rmse_rf)\n",
    "\n",
    "\n",
    "randomforest_simple_sin_p(df1_ni, \"poa\")\n",
    "randomforest_simple_sin_p(df1_ni, \"Tcell\")\n",
    "\n",
    "randomforest_mul_sin_p(df1_ni)"
   ]
  },
  {
   "cell_type": "markdown",
   "metadata": {},
   "source": [
    "## Random Forest con parametros"
   ]
  },
  {
   "cell_type": "code",
   "execution_count": 147,
   "metadata": {},
   "outputs": [],
   "source": [
    "from sklearn.model_selection import train_test_split\n",
    "from sklearn.ensemble import RandomForestRegressor\n",
    "from sklearn.metrics import mean_squared_error\n",
    "import statistics\n",
    "\n",
    "\n",
    "def randomforest_simple(df, var, n_estimators):\n",
    "    print()\n",
    "    print(\"Predecir power usando: \" + var)\n",
    "    \n",
    "    \n",
    "    x = df[var].values.reshape(-1, 1)\n",
    "    y = df[\"power\"].values.reshape(-1, 1)\n",
    "    x_train, x_test, y_train, y_test = train_test_split(x, y, test_size=0.30, random_state=123)\n",
    "    \n",
    "\n",
    "    rf=RandomForestRegressor(n_estimators=n_estimators, criterion='mse', random_state=123, n_jobs=-1)\n",
    "    rf.fit(x_train, y_train)\n",
    "\n",
    "    y_pred=rf.predict(x_test)\n",
    "    \n",
    "    mse=mean_squared_error(y_test, y_pred)\n",
    "    rmse=np.sqrt(mse)\n",
    "    print(\"rmse \", rmse )\n",
    "        \n",
    "    return rmse\n",
    "\n",
    "#---------------------------------------------------------------------------------------------------------\n",
    "def randomforest_mul(df, n_estimators):\n",
    "    print()\n",
    "    print(\"Predecir power usando: poa y Tcell\")\n",
    "    \n",
    "    y = df['power']\n",
    "    x = df.drop(['Timestamp', 'power'], axis =1)\n",
    "    x_train, x_test, y_train, y_test = train_test_split(x, y, test_size = 0.3, random_state=123)\n",
    "    \n",
    "\n",
    "    rf = RandomForestRegressor(n_estimators=n_estimators, criterion='mse', random_state=123, n_jobs=-1)\n",
    "    \n",
    "    rf.fit(x_train, y_train)\n",
    "        \n",
    "    y_pred = rf.predict(x_test)\n",
    "    \n",
    "    mse_rf= mean_squared_error(y_test,y_pred)\n",
    "    rmse_rf= np.sqrt(mse_rf)\n",
    "      \n",
    "    print('RMSE: ', rmse_rf)\n",
    "\n",
    "    return rmse_rf"
   ]
  },
  {
   "cell_type": "markdown",
   "metadata": {},
   "source": [
    "## 1 Iteración\n",
    "\n",
    "### n_estimators = 100"
   ]
  },
  {
   "cell_type": "code",
   "execution_count": 148,
   "metadata": {},
   "outputs": [
    {
     "name": "stdout",
     "output_type": "stream",
     "text": [
      "1 SOLA ITERACIÓN\n",
      "\n",
      "Predecir power usando: poa\n"
     ]
    },
    {
     "name": "stderr",
     "output_type": "stream",
     "text": [
      "<ipython-input-147-b91efb589e7b>:18: DataConversionWarning: A column-vector y was passed when a 1d array was expected. Please change the shape of y to (n_samples,), for example using ravel().\n",
      "  rf.fit(x_train, y_train)\n"
     ]
    },
    {
     "name": "stdout",
     "output_type": "stream",
     "text": [
      "rmse  7310.482682757263\n"
     ]
    },
    {
     "data": {
      "text/plain": [
       "7310.482682757263"
      ]
     },
     "execution_count": 148,
     "metadata": {},
     "output_type": "execute_result"
    }
   ],
   "source": [
    "print(\"1 SOLA ITERACIÓN\")\n",
    "randomforest_simple(df1_ni, \"poa\", 100)"
   ]
  },
  {
   "cell_type": "code",
   "execution_count": 149,
   "metadata": {},
   "outputs": [
    {
     "name": "stdout",
     "output_type": "stream",
     "text": [
      "1 SOLA ITERACIÓN\n",
      "\n",
      "Predecir power usando: Tcell\n"
     ]
    },
    {
     "name": "stderr",
     "output_type": "stream",
     "text": [
      "<ipython-input-147-b91efb589e7b>:18: DataConversionWarning: A column-vector y was passed when a 1d array was expected. Please change the shape of y to (n_samples,), for example using ravel().\n",
      "  rf.fit(x_train, y_train)\n"
     ]
    },
    {
     "name": "stdout",
     "output_type": "stream",
     "text": [
      "rmse  32429.433151658166\n"
     ]
    },
    {
     "data": {
      "text/plain": [
       "32429.433151658166"
      ]
     },
     "execution_count": 149,
     "metadata": {},
     "output_type": "execute_result"
    }
   ],
   "source": [
    "print(\"1 SOLA ITERACIÓN\")\n",
    "randomforest_simple(df1_ni, \"Tcell\", 100)"
   ]
  },
  {
   "cell_type": "code",
   "execution_count": 150,
   "metadata": {},
   "outputs": [
    {
     "name": "stdout",
     "output_type": "stream",
     "text": [
      "1 SOLA ITERACIÓN\n",
      "\n",
      "Predecir power usando: poa y Tcell\n",
      "RMSE:  5633.89376514609\n"
     ]
    },
    {
     "data": {
      "text/plain": [
       "5633.89376514609"
      ]
     },
     "execution_count": 150,
     "metadata": {},
     "output_type": "execute_result"
    }
   ],
   "source": [
    "print(\"1 SOLA ITERACIÓN\")\n",
    "randomforest_mul(df1_ni, 100)"
   ]
  },
  {
   "cell_type": "markdown",
   "metadata": {},
   "source": [
    "## 1 Iteración\n",
    "\n",
    "### n_estimators = 200"
   ]
  },
  {
   "cell_type": "code",
   "execution_count": 151,
   "metadata": {},
   "outputs": [
    {
     "name": "stdout",
     "output_type": "stream",
     "text": [
      "1 SOLA ITERACIÓN\n",
      "\n",
      "Predecir power usando: poa\n"
     ]
    },
    {
     "name": "stderr",
     "output_type": "stream",
     "text": [
      "<ipython-input-147-b91efb589e7b>:18: DataConversionWarning: A column-vector y was passed when a 1d array was expected. Please change the shape of y to (n_samples,), for example using ravel().\n",
      "  rf.fit(x_train, y_train)\n"
     ]
    },
    {
     "name": "stdout",
     "output_type": "stream",
     "text": [
      "rmse  7314.533317266457\n"
     ]
    },
    {
     "data": {
      "text/plain": [
       "7314.533317266457"
      ]
     },
     "execution_count": 151,
     "metadata": {},
     "output_type": "execute_result"
    }
   ],
   "source": [
    "print(\"1 SOLA ITERACIÓN\")\n",
    "randomforest_simple(df1_ni, \"poa\", 200)"
   ]
  },
  {
   "cell_type": "code",
   "execution_count": 152,
   "metadata": {},
   "outputs": [
    {
     "name": "stdout",
     "output_type": "stream",
     "text": [
      "1 SOLA ITERACIÓN\n",
      "\n",
      "Predecir power usando: Tcell\n"
     ]
    },
    {
     "name": "stderr",
     "output_type": "stream",
     "text": [
      "<ipython-input-147-b91efb589e7b>:18: DataConversionWarning: A column-vector y was passed when a 1d array was expected. Please change the shape of y to (n_samples,), for example using ravel().\n",
      "  rf.fit(x_train, y_train)\n"
     ]
    },
    {
     "name": "stdout",
     "output_type": "stream",
     "text": [
      "rmse  32422.412520971982\n"
     ]
    },
    {
     "data": {
      "text/plain": [
       "32422.412520971982"
      ]
     },
     "execution_count": 152,
     "metadata": {},
     "output_type": "execute_result"
    }
   ],
   "source": [
    "print(\"1 SOLA ITERACIÓN\")\n",
    "randomforest_simple(df1_ni, \"Tcell\", 200)"
   ]
  },
  {
   "cell_type": "code",
   "execution_count": 153,
   "metadata": {},
   "outputs": [
    {
     "name": "stdout",
     "output_type": "stream",
     "text": [
      "1 SOLA ITERACIÓN\n",
      "\n",
      "Predecir power usando: poa y Tcell\n",
      "RMSE:  5618.401159719618\n"
     ]
    },
    {
     "data": {
      "text/plain": [
       "5618.401159719618"
      ]
     },
     "execution_count": 153,
     "metadata": {},
     "output_type": "execute_result"
    }
   ],
   "source": [
    "print(\"1 SOLA ITERACIÓN\")\n",
    "randomforest_mul(df1_ni, 200)"
   ]
  },
  {
   "cell_type": "markdown",
   "metadata": {},
   "source": [
    "## 30 Iteraciones"
   ]
  },
  {
   "cell_type": "code",
   "execution_count": 154,
   "metadata": {},
   "outputs": [
    {
     "name": "stdout",
     "output_type": "stream",
     "text": [
      "\n",
      "-----------------------\n",
      "30 ITERACIONES\n",
      "\n",
      "Predecir power usando: poa\n"
     ]
    },
    {
     "name": "stderr",
     "output_type": "stream",
     "text": [
      "<ipython-input-147-b91efb589e7b>:18: DataConversionWarning: A column-vector y was passed when a 1d array was expected. Please change the shape of y to (n_samples,), for example using ravel().\n",
      "  rf.fit(x_train, y_train)\n"
     ]
    },
    {
     "name": "stdout",
     "output_type": "stream",
     "text": [
      "rmse  7314.533317266457\n",
      "\n",
      "Predecir power usando: Tcell\n"
     ]
    },
    {
     "name": "stderr",
     "output_type": "stream",
     "text": [
      "<ipython-input-147-b91efb589e7b>:18: DataConversionWarning: A column-vector y was passed when a 1d array was expected. Please change the shape of y to (n_samples,), for example using ravel().\n",
      "  rf.fit(x_train, y_train)\n"
     ]
    },
    {
     "name": "stdout",
     "output_type": "stream",
     "text": [
      "rmse  32422.412520971982\n",
      "\n",
      "Predecir power usando: poa y Tcell\n",
      "RMSE:  5618.401159719618\n",
      "\n",
      "Predecir power usando: poa\n"
     ]
    },
    {
     "name": "stderr",
     "output_type": "stream",
     "text": [
      "<ipython-input-147-b91efb589e7b>:18: DataConversionWarning: A column-vector y was passed when a 1d array was expected. Please change the shape of y to (n_samples,), for example using ravel().\n",
      "  rf.fit(x_train, y_train)\n"
     ]
    },
    {
     "name": "stdout",
     "output_type": "stream",
     "text": [
      "rmse  7314.533317266457\n",
      "\n",
      "Predecir power usando: Tcell\n"
     ]
    },
    {
     "name": "stderr",
     "output_type": "stream",
     "text": [
      "<ipython-input-147-b91efb589e7b>:18: DataConversionWarning: A column-vector y was passed when a 1d array was expected. Please change the shape of y to (n_samples,), for example using ravel().\n",
      "  rf.fit(x_train, y_train)\n"
     ]
    },
    {
     "name": "stdout",
     "output_type": "stream",
     "text": [
      "rmse  32422.412520971982\n",
      "\n",
      "Predecir power usando: poa y Tcell\n",
      "RMSE:  5618.401159719618\n",
      "\n",
      "Predecir power usando: poa\n"
     ]
    },
    {
     "name": "stderr",
     "output_type": "stream",
     "text": [
      "<ipython-input-147-b91efb589e7b>:18: DataConversionWarning: A column-vector y was passed when a 1d array was expected. Please change the shape of y to (n_samples,), for example using ravel().\n",
      "  rf.fit(x_train, y_train)\n"
     ]
    },
    {
     "name": "stdout",
     "output_type": "stream",
     "text": [
      "rmse  7314.533317266457\n",
      "\n",
      "Predecir power usando: Tcell\n"
     ]
    },
    {
     "name": "stderr",
     "output_type": "stream",
     "text": [
      "<ipython-input-147-b91efb589e7b>:18: DataConversionWarning: A column-vector y was passed when a 1d array was expected. Please change the shape of y to (n_samples,), for example using ravel().\n",
      "  rf.fit(x_train, y_train)\n"
     ]
    },
    {
     "name": "stdout",
     "output_type": "stream",
     "text": [
      "rmse  32422.412520971982\n",
      "\n",
      "Predecir power usando: poa y Tcell\n",
      "RMSE:  5618.401159719618\n",
      "\n",
      "Predecir power usando: poa\n"
     ]
    },
    {
     "name": "stderr",
     "output_type": "stream",
     "text": [
      "<ipython-input-147-b91efb589e7b>:18: DataConversionWarning: A column-vector y was passed when a 1d array was expected. Please change the shape of y to (n_samples,), for example using ravel().\n",
      "  rf.fit(x_train, y_train)\n"
     ]
    },
    {
     "name": "stdout",
     "output_type": "stream",
     "text": [
      "rmse  7314.533317266457\n",
      "\n",
      "Predecir power usando: Tcell\n"
     ]
    },
    {
     "name": "stderr",
     "output_type": "stream",
     "text": [
      "<ipython-input-147-b91efb589e7b>:18: DataConversionWarning: A column-vector y was passed when a 1d array was expected. Please change the shape of y to (n_samples,), for example using ravel().\n",
      "  rf.fit(x_train, y_train)\n"
     ]
    },
    {
     "name": "stdout",
     "output_type": "stream",
     "text": [
      "rmse  32422.412520971982\n",
      "\n",
      "Predecir power usando: poa y Tcell\n",
      "RMSE:  5618.401159719618\n",
      "\n",
      "Predecir power usando: poa\n"
     ]
    },
    {
     "name": "stderr",
     "output_type": "stream",
     "text": [
      "<ipython-input-147-b91efb589e7b>:18: DataConversionWarning: A column-vector y was passed when a 1d array was expected. Please change the shape of y to (n_samples,), for example using ravel().\n",
      "  rf.fit(x_train, y_train)\n"
     ]
    },
    {
     "name": "stdout",
     "output_type": "stream",
     "text": [
      "rmse  7314.533317266457\n",
      "\n",
      "Predecir power usando: Tcell\n"
     ]
    },
    {
     "name": "stderr",
     "output_type": "stream",
     "text": [
      "<ipython-input-147-b91efb589e7b>:18: DataConversionWarning: A column-vector y was passed when a 1d array was expected. Please change the shape of y to (n_samples,), for example using ravel().\n",
      "  rf.fit(x_train, y_train)\n"
     ]
    },
    {
     "name": "stdout",
     "output_type": "stream",
     "text": [
      "rmse  32422.412520971982\n",
      "\n",
      "Predecir power usando: poa y Tcell\n",
      "RMSE:  5618.401159719618\n",
      "\n",
      "Predecir power usando: poa\n"
     ]
    },
    {
     "name": "stderr",
     "output_type": "stream",
     "text": [
      "<ipython-input-147-b91efb589e7b>:18: DataConversionWarning: A column-vector y was passed when a 1d array was expected. Please change the shape of y to (n_samples,), for example using ravel().\n",
      "  rf.fit(x_train, y_train)\n"
     ]
    },
    {
     "name": "stdout",
     "output_type": "stream",
     "text": [
      "rmse  7314.533317266457\n",
      "\n",
      "Predecir power usando: Tcell\n"
     ]
    },
    {
     "name": "stderr",
     "output_type": "stream",
     "text": [
      "<ipython-input-147-b91efb589e7b>:18: DataConversionWarning: A column-vector y was passed when a 1d array was expected. Please change the shape of y to (n_samples,), for example using ravel().\n",
      "  rf.fit(x_train, y_train)\n"
     ]
    },
    {
     "name": "stdout",
     "output_type": "stream",
     "text": [
      "rmse  32422.412520971982\n",
      "\n",
      "Predecir power usando: poa y Tcell\n",
      "RMSE:  5618.401159719618\n",
      "\n",
      "Predecir power usando: poa\n"
     ]
    },
    {
     "name": "stderr",
     "output_type": "stream",
     "text": [
      "<ipython-input-147-b91efb589e7b>:18: DataConversionWarning: A column-vector y was passed when a 1d array was expected. Please change the shape of y to (n_samples,), for example using ravel().\n",
      "  rf.fit(x_train, y_train)\n"
     ]
    },
    {
     "name": "stdout",
     "output_type": "stream",
     "text": [
      "rmse  7314.533317266457\n",
      "\n",
      "Predecir power usando: Tcell\n"
     ]
    },
    {
     "name": "stderr",
     "output_type": "stream",
     "text": [
      "<ipython-input-147-b91efb589e7b>:18: DataConversionWarning: A column-vector y was passed when a 1d array was expected. Please change the shape of y to (n_samples,), for example using ravel().\n",
      "  rf.fit(x_train, y_train)\n"
     ]
    },
    {
     "name": "stdout",
     "output_type": "stream",
     "text": [
      "rmse  32422.412520971982\n",
      "\n",
      "Predecir power usando: poa y Tcell\n",
      "RMSE:  5618.401159719618\n",
      "\n",
      "Predecir power usando: poa\n"
     ]
    },
    {
     "name": "stderr",
     "output_type": "stream",
     "text": [
      "<ipython-input-147-b91efb589e7b>:18: DataConversionWarning: A column-vector y was passed when a 1d array was expected. Please change the shape of y to (n_samples,), for example using ravel().\n",
      "  rf.fit(x_train, y_train)\n"
     ]
    },
    {
     "name": "stdout",
     "output_type": "stream",
     "text": [
      "rmse  7314.533317266457\n",
      "\n",
      "Predecir power usando: Tcell\n"
     ]
    },
    {
     "name": "stderr",
     "output_type": "stream",
     "text": [
      "<ipython-input-147-b91efb589e7b>:18: DataConversionWarning: A column-vector y was passed when a 1d array was expected. Please change the shape of y to (n_samples,), for example using ravel().\n",
      "  rf.fit(x_train, y_train)\n"
     ]
    },
    {
     "name": "stdout",
     "output_type": "stream",
     "text": [
      "rmse  32422.412520971982\n",
      "\n",
      "Predecir power usando: poa y Tcell\n",
      "RMSE:  5618.401159719618\n",
      "\n",
      "Predecir power usando: poa\n"
     ]
    },
    {
     "name": "stderr",
     "output_type": "stream",
     "text": [
      "<ipython-input-147-b91efb589e7b>:18: DataConversionWarning: A column-vector y was passed when a 1d array was expected. Please change the shape of y to (n_samples,), for example using ravel().\n",
      "  rf.fit(x_train, y_train)\n"
     ]
    },
    {
     "name": "stdout",
     "output_type": "stream",
     "text": [
      "rmse  7314.533317266457\n",
      "\n",
      "Predecir power usando: Tcell\n"
     ]
    },
    {
     "name": "stderr",
     "output_type": "stream",
     "text": [
      "<ipython-input-147-b91efb589e7b>:18: DataConversionWarning: A column-vector y was passed when a 1d array was expected. Please change the shape of y to (n_samples,), for example using ravel().\n",
      "  rf.fit(x_train, y_train)\n"
     ]
    },
    {
     "name": "stdout",
     "output_type": "stream",
     "text": [
      "rmse  32422.412520971982\n",
      "\n",
      "Predecir power usando: poa y Tcell\n",
      "RMSE:  5618.401159719618\n",
      "\n",
      "Predecir power usando: poa\n"
     ]
    },
    {
     "name": "stderr",
     "output_type": "stream",
     "text": [
      "<ipython-input-147-b91efb589e7b>:18: DataConversionWarning: A column-vector y was passed when a 1d array was expected. Please change the shape of y to (n_samples,), for example using ravel().\n",
      "  rf.fit(x_train, y_train)\n"
     ]
    },
    {
     "name": "stdout",
     "output_type": "stream",
     "text": [
      "rmse  7314.533317266457\n",
      "\n",
      "Predecir power usando: Tcell\n"
     ]
    },
    {
     "name": "stderr",
     "output_type": "stream",
     "text": [
      "<ipython-input-147-b91efb589e7b>:18: DataConversionWarning: A column-vector y was passed when a 1d array was expected. Please change the shape of y to (n_samples,), for example using ravel().\n",
      "  rf.fit(x_train, y_train)\n"
     ]
    },
    {
     "name": "stdout",
     "output_type": "stream",
     "text": [
      "rmse  32422.412520971982\n",
      "\n",
      "Predecir power usando: poa y Tcell\n",
      "RMSE:  5618.401159719618\n",
      "\n",
      "Predecir power usando: poa\n"
     ]
    },
    {
     "name": "stderr",
     "output_type": "stream",
     "text": [
      "<ipython-input-147-b91efb589e7b>:18: DataConversionWarning: A column-vector y was passed when a 1d array was expected. Please change the shape of y to (n_samples,), for example using ravel().\n",
      "  rf.fit(x_train, y_train)\n"
     ]
    },
    {
     "name": "stdout",
     "output_type": "stream",
     "text": [
      "rmse  7314.533317266457\n",
      "\n",
      "Predecir power usando: Tcell\n"
     ]
    },
    {
     "name": "stderr",
     "output_type": "stream",
     "text": [
      "<ipython-input-147-b91efb589e7b>:18: DataConversionWarning: A column-vector y was passed when a 1d array was expected. Please change the shape of y to (n_samples,), for example using ravel().\n",
      "  rf.fit(x_train, y_train)\n"
     ]
    },
    {
     "name": "stdout",
     "output_type": "stream",
     "text": [
      "rmse  32422.412520971982\n",
      "\n",
      "Predecir power usando: poa y Tcell\n",
      "RMSE:  5618.401159719618\n",
      "\n",
      "Predecir power usando: poa\n"
     ]
    },
    {
     "name": "stderr",
     "output_type": "stream",
     "text": [
      "<ipython-input-147-b91efb589e7b>:18: DataConversionWarning: A column-vector y was passed when a 1d array was expected. Please change the shape of y to (n_samples,), for example using ravel().\n",
      "  rf.fit(x_train, y_train)\n"
     ]
    },
    {
     "name": "stdout",
     "output_type": "stream",
     "text": [
      "rmse  7314.533317266457\n",
      "\n",
      "Predecir power usando: Tcell\n"
     ]
    },
    {
     "name": "stderr",
     "output_type": "stream",
     "text": [
      "<ipython-input-147-b91efb589e7b>:18: DataConversionWarning: A column-vector y was passed when a 1d array was expected. Please change the shape of y to (n_samples,), for example using ravel().\n",
      "  rf.fit(x_train, y_train)\n"
     ]
    },
    {
     "name": "stdout",
     "output_type": "stream",
     "text": [
      "rmse  32422.412520971982\n",
      "\n",
      "Predecir power usando: poa y Tcell\n",
      "RMSE:  5618.401159719618\n",
      "\n",
      "Predecir power usando: poa\n"
     ]
    },
    {
     "name": "stderr",
     "output_type": "stream",
     "text": [
      "<ipython-input-147-b91efb589e7b>:18: DataConversionWarning: A column-vector y was passed when a 1d array was expected. Please change the shape of y to (n_samples,), for example using ravel().\n",
      "  rf.fit(x_train, y_train)\n"
     ]
    },
    {
     "name": "stdout",
     "output_type": "stream",
     "text": [
      "rmse  7314.533317266457\n",
      "\n",
      "Predecir power usando: Tcell\n"
     ]
    },
    {
     "name": "stderr",
     "output_type": "stream",
     "text": [
      "<ipython-input-147-b91efb589e7b>:18: DataConversionWarning: A column-vector y was passed when a 1d array was expected. Please change the shape of y to (n_samples,), for example using ravel().\n",
      "  rf.fit(x_train, y_train)\n"
     ]
    },
    {
     "name": "stdout",
     "output_type": "stream",
     "text": [
      "rmse  32422.412520971982\n",
      "\n",
      "Predecir power usando: poa y Tcell\n",
      "RMSE:  5618.401159719618\n",
      "\n",
      "Predecir power usando: poa\n"
     ]
    },
    {
     "name": "stderr",
     "output_type": "stream",
     "text": [
      "<ipython-input-147-b91efb589e7b>:18: DataConversionWarning: A column-vector y was passed when a 1d array was expected. Please change the shape of y to (n_samples,), for example using ravel().\n",
      "  rf.fit(x_train, y_train)\n"
     ]
    },
    {
     "name": "stdout",
     "output_type": "stream",
     "text": [
      "rmse  7314.533317266457\n",
      "\n",
      "Predecir power usando: Tcell\n"
     ]
    },
    {
     "name": "stderr",
     "output_type": "stream",
     "text": [
      "<ipython-input-147-b91efb589e7b>:18: DataConversionWarning: A column-vector y was passed when a 1d array was expected. Please change the shape of y to (n_samples,), for example using ravel().\n",
      "  rf.fit(x_train, y_train)\n"
     ]
    },
    {
     "name": "stdout",
     "output_type": "stream",
     "text": [
      "rmse  32422.412520971982\n",
      "\n",
      "Predecir power usando: poa y Tcell\n",
      "RMSE:  5618.401159719618\n",
      "\n",
      "Predecir power usando: poa\n"
     ]
    },
    {
     "name": "stderr",
     "output_type": "stream",
     "text": [
      "<ipython-input-147-b91efb589e7b>:18: DataConversionWarning: A column-vector y was passed when a 1d array was expected. Please change the shape of y to (n_samples,), for example using ravel().\n",
      "  rf.fit(x_train, y_train)\n"
     ]
    },
    {
     "name": "stdout",
     "output_type": "stream",
     "text": [
      "rmse  7314.533317266457\n",
      "\n",
      "Predecir power usando: Tcell\n"
     ]
    },
    {
     "name": "stderr",
     "output_type": "stream",
     "text": [
      "<ipython-input-147-b91efb589e7b>:18: DataConversionWarning: A column-vector y was passed when a 1d array was expected. Please change the shape of y to (n_samples,), for example using ravel().\n",
      "  rf.fit(x_train, y_train)\n"
     ]
    },
    {
     "name": "stdout",
     "output_type": "stream",
     "text": [
      "rmse  32422.412520971982\n",
      "\n",
      "Predecir power usando: poa y Tcell\n",
      "RMSE:  5618.401159719618\n",
      "\n",
      "Predecir power usando: poa\n"
     ]
    },
    {
     "name": "stderr",
     "output_type": "stream",
     "text": [
      "<ipython-input-147-b91efb589e7b>:18: DataConversionWarning: A column-vector y was passed when a 1d array was expected. Please change the shape of y to (n_samples,), for example using ravel().\n",
      "  rf.fit(x_train, y_train)\n"
     ]
    },
    {
     "name": "stdout",
     "output_type": "stream",
     "text": [
      "rmse  7314.533317266457\n",
      "\n",
      "Predecir power usando: Tcell\n"
     ]
    },
    {
     "name": "stderr",
     "output_type": "stream",
     "text": [
      "<ipython-input-147-b91efb589e7b>:18: DataConversionWarning: A column-vector y was passed when a 1d array was expected. Please change the shape of y to (n_samples,), for example using ravel().\n",
      "  rf.fit(x_train, y_train)\n"
     ]
    },
    {
     "name": "stdout",
     "output_type": "stream",
     "text": [
      "rmse  32422.412520971982\n",
      "\n",
      "Predecir power usando: poa y Tcell\n",
      "RMSE:  5618.401159719618\n",
      "\n",
      "Predecir power usando: poa\n"
     ]
    },
    {
     "name": "stderr",
     "output_type": "stream",
     "text": [
      "<ipython-input-147-b91efb589e7b>:18: DataConversionWarning: A column-vector y was passed when a 1d array was expected. Please change the shape of y to (n_samples,), for example using ravel().\n",
      "  rf.fit(x_train, y_train)\n"
     ]
    },
    {
     "name": "stdout",
     "output_type": "stream",
     "text": [
      "rmse  7314.533317266457\n",
      "\n",
      "Predecir power usando: Tcell\n"
     ]
    },
    {
     "name": "stderr",
     "output_type": "stream",
     "text": [
      "<ipython-input-147-b91efb589e7b>:18: DataConversionWarning: A column-vector y was passed when a 1d array was expected. Please change the shape of y to (n_samples,), for example using ravel().\n",
      "  rf.fit(x_train, y_train)\n"
     ]
    },
    {
     "name": "stdout",
     "output_type": "stream",
     "text": [
      "rmse  32422.412520971982\n",
      "\n",
      "Predecir power usando: poa y Tcell\n",
      "RMSE:  5618.401159719618\n",
      "\n",
      "Predecir power usando: poa\n"
     ]
    },
    {
     "name": "stderr",
     "output_type": "stream",
     "text": [
      "<ipython-input-147-b91efb589e7b>:18: DataConversionWarning: A column-vector y was passed when a 1d array was expected. Please change the shape of y to (n_samples,), for example using ravel().\n",
      "  rf.fit(x_train, y_train)\n"
     ]
    },
    {
     "name": "stdout",
     "output_type": "stream",
     "text": [
      "rmse  7314.533317266457\n",
      "\n",
      "Predecir power usando: Tcell\n"
     ]
    },
    {
     "name": "stderr",
     "output_type": "stream",
     "text": [
      "<ipython-input-147-b91efb589e7b>:18: DataConversionWarning: A column-vector y was passed when a 1d array was expected. Please change the shape of y to (n_samples,), for example using ravel().\n",
      "  rf.fit(x_train, y_train)\n"
     ]
    },
    {
     "name": "stdout",
     "output_type": "stream",
     "text": [
      "rmse  32422.412520971982\n",
      "\n",
      "Predecir power usando: poa y Tcell\n",
      "RMSE:  5618.401159719618\n",
      "\n",
      "Predecir power usando: poa\n"
     ]
    },
    {
     "name": "stderr",
     "output_type": "stream",
     "text": [
      "<ipython-input-147-b91efb589e7b>:18: DataConversionWarning: A column-vector y was passed when a 1d array was expected. Please change the shape of y to (n_samples,), for example using ravel().\n",
      "  rf.fit(x_train, y_train)\n"
     ]
    },
    {
     "name": "stdout",
     "output_type": "stream",
     "text": [
      "rmse  7314.533317266457\n",
      "\n",
      "Predecir power usando: Tcell\n"
     ]
    },
    {
     "name": "stderr",
     "output_type": "stream",
     "text": [
      "<ipython-input-147-b91efb589e7b>:18: DataConversionWarning: A column-vector y was passed when a 1d array was expected. Please change the shape of y to (n_samples,), for example using ravel().\n",
      "  rf.fit(x_train, y_train)\n"
     ]
    },
    {
     "name": "stdout",
     "output_type": "stream",
     "text": [
      "rmse  32422.412520971982\n",
      "\n",
      "Predecir power usando: poa y Tcell\n",
      "RMSE:  5618.401159719618\n",
      "\n",
      "Predecir power usando: poa\n"
     ]
    },
    {
     "name": "stderr",
     "output_type": "stream",
     "text": [
      "<ipython-input-147-b91efb589e7b>:18: DataConversionWarning: A column-vector y was passed when a 1d array was expected. Please change the shape of y to (n_samples,), for example using ravel().\n",
      "  rf.fit(x_train, y_train)\n"
     ]
    },
    {
     "name": "stdout",
     "output_type": "stream",
     "text": [
      "rmse  7314.533317266457\n",
      "\n",
      "Predecir power usando: Tcell\n"
     ]
    },
    {
     "name": "stderr",
     "output_type": "stream",
     "text": [
      "<ipython-input-147-b91efb589e7b>:18: DataConversionWarning: A column-vector y was passed when a 1d array was expected. Please change the shape of y to (n_samples,), for example using ravel().\n",
      "  rf.fit(x_train, y_train)\n"
     ]
    },
    {
     "name": "stdout",
     "output_type": "stream",
     "text": [
      "rmse  32422.412520971982\n",
      "\n",
      "Predecir power usando: poa y Tcell\n",
      "RMSE:  5618.401159719618\n",
      "\n",
      "Predecir power usando: poa\n"
     ]
    },
    {
     "name": "stderr",
     "output_type": "stream",
     "text": [
      "<ipython-input-147-b91efb589e7b>:18: DataConversionWarning: A column-vector y was passed when a 1d array was expected. Please change the shape of y to (n_samples,), for example using ravel().\n",
      "  rf.fit(x_train, y_train)\n"
     ]
    },
    {
     "name": "stdout",
     "output_type": "stream",
     "text": [
      "rmse  7314.533317266457\n",
      "\n",
      "Predecir power usando: Tcell\n"
     ]
    },
    {
     "name": "stderr",
     "output_type": "stream",
     "text": [
      "<ipython-input-147-b91efb589e7b>:18: DataConversionWarning: A column-vector y was passed when a 1d array was expected. Please change the shape of y to (n_samples,), for example using ravel().\n",
      "  rf.fit(x_train, y_train)\n"
     ]
    },
    {
     "name": "stdout",
     "output_type": "stream",
     "text": [
      "rmse  32422.412520971982\n",
      "\n",
      "Predecir power usando: poa y Tcell\n",
      "RMSE:  5618.401159719618\n",
      "\n",
      "Predecir power usando: poa\n"
     ]
    },
    {
     "name": "stderr",
     "output_type": "stream",
     "text": [
      "<ipython-input-147-b91efb589e7b>:18: DataConversionWarning: A column-vector y was passed when a 1d array was expected. Please change the shape of y to (n_samples,), for example using ravel().\n",
      "  rf.fit(x_train, y_train)\n"
     ]
    },
    {
     "name": "stdout",
     "output_type": "stream",
     "text": [
      "rmse  7314.533317266457\n",
      "\n",
      "Predecir power usando: Tcell\n"
     ]
    },
    {
     "name": "stderr",
     "output_type": "stream",
     "text": [
      "<ipython-input-147-b91efb589e7b>:18: DataConversionWarning: A column-vector y was passed when a 1d array was expected. Please change the shape of y to (n_samples,), for example using ravel().\n",
      "  rf.fit(x_train, y_train)\n"
     ]
    },
    {
     "name": "stdout",
     "output_type": "stream",
     "text": [
      "rmse  32422.412520971982\n",
      "\n",
      "Predecir power usando: poa y Tcell\n",
      "RMSE:  5618.401159719618\n",
      "\n",
      "Predecir power usando: poa\n"
     ]
    },
    {
     "name": "stderr",
     "output_type": "stream",
     "text": [
      "<ipython-input-147-b91efb589e7b>:18: DataConversionWarning: A column-vector y was passed when a 1d array was expected. Please change the shape of y to (n_samples,), for example using ravel().\n",
      "  rf.fit(x_train, y_train)\n"
     ]
    },
    {
     "name": "stdout",
     "output_type": "stream",
     "text": [
      "rmse  7314.533317266457\n",
      "\n",
      "Predecir power usando: Tcell\n"
     ]
    },
    {
     "name": "stderr",
     "output_type": "stream",
     "text": [
      "<ipython-input-147-b91efb589e7b>:18: DataConversionWarning: A column-vector y was passed when a 1d array was expected. Please change the shape of y to (n_samples,), for example using ravel().\n",
      "  rf.fit(x_train, y_train)\n"
     ]
    },
    {
     "name": "stdout",
     "output_type": "stream",
     "text": [
      "rmse  32422.412520971982\n",
      "\n",
      "Predecir power usando: poa y Tcell\n",
      "RMSE:  5618.401159719618\n",
      "\n",
      "Predecir power usando: poa\n"
     ]
    },
    {
     "name": "stderr",
     "output_type": "stream",
     "text": [
      "<ipython-input-147-b91efb589e7b>:18: DataConversionWarning: A column-vector y was passed when a 1d array was expected. Please change the shape of y to (n_samples,), for example using ravel().\n",
      "  rf.fit(x_train, y_train)\n"
     ]
    },
    {
     "name": "stdout",
     "output_type": "stream",
     "text": [
      "rmse  7314.533317266457\n",
      "\n",
      "Predecir power usando: Tcell\n"
     ]
    },
    {
     "name": "stderr",
     "output_type": "stream",
     "text": [
      "<ipython-input-147-b91efb589e7b>:18: DataConversionWarning: A column-vector y was passed when a 1d array was expected. Please change the shape of y to (n_samples,), for example using ravel().\n",
      "  rf.fit(x_train, y_train)\n"
     ]
    },
    {
     "name": "stdout",
     "output_type": "stream",
     "text": [
      "rmse  32422.412520971982\n",
      "\n",
      "Predecir power usando: poa y Tcell\n",
      "RMSE:  5618.401159719618\n",
      "\n",
      "Predecir power usando: poa\n"
     ]
    },
    {
     "name": "stderr",
     "output_type": "stream",
     "text": [
      "<ipython-input-147-b91efb589e7b>:18: DataConversionWarning: A column-vector y was passed when a 1d array was expected. Please change the shape of y to (n_samples,), for example using ravel().\n",
      "  rf.fit(x_train, y_train)\n"
     ]
    },
    {
     "name": "stdout",
     "output_type": "stream",
     "text": [
      "rmse  7314.533317266457\n",
      "\n",
      "Predecir power usando: Tcell\n"
     ]
    },
    {
     "name": "stderr",
     "output_type": "stream",
     "text": [
      "<ipython-input-147-b91efb589e7b>:18: DataConversionWarning: A column-vector y was passed when a 1d array was expected. Please change the shape of y to (n_samples,), for example using ravel().\n",
      "  rf.fit(x_train, y_train)\n"
     ]
    },
    {
     "name": "stdout",
     "output_type": "stream",
     "text": [
      "rmse  32422.412520971982\n",
      "\n",
      "Predecir power usando: poa y Tcell\n",
      "RMSE:  5618.401159719618\n",
      "\n",
      "Predecir power usando: poa\n"
     ]
    },
    {
     "name": "stderr",
     "output_type": "stream",
     "text": [
      "<ipython-input-147-b91efb589e7b>:18: DataConversionWarning: A column-vector y was passed when a 1d array was expected. Please change the shape of y to (n_samples,), for example using ravel().\n",
      "  rf.fit(x_train, y_train)\n"
     ]
    },
    {
     "name": "stdout",
     "output_type": "stream",
     "text": [
      "rmse  7314.533317266457\n",
      "\n",
      "Predecir power usando: Tcell\n"
     ]
    },
    {
     "name": "stderr",
     "output_type": "stream",
     "text": [
      "<ipython-input-147-b91efb589e7b>:18: DataConversionWarning: A column-vector y was passed when a 1d array was expected. Please change the shape of y to (n_samples,), for example using ravel().\n",
      "  rf.fit(x_train, y_train)\n"
     ]
    },
    {
     "name": "stdout",
     "output_type": "stream",
     "text": [
      "rmse  32422.412520971982\n",
      "\n",
      "Predecir power usando: poa y Tcell\n",
      "RMSE:  5618.401159719618\n",
      "\n",
      "Predecir power usando: poa\n"
     ]
    },
    {
     "name": "stderr",
     "output_type": "stream",
     "text": [
      "<ipython-input-147-b91efb589e7b>:18: DataConversionWarning: A column-vector y was passed when a 1d array was expected. Please change the shape of y to (n_samples,), for example using ravel().\n",
      "  rf.fit(x_train, y_train)\n"
     ]
    },
    {
     "name": "stdout",
     "output_type": "stream",
     "text": [
      "rmse  7314.533317266457\n",
      "\n",
      "Predecir power usando: Tcell\n"
     ]
    },
    {
     "name": "stderr",
     "output_type": "stream",
     "text": [
      "<ipython-input-147-b91efb589e7b>:18: DataConversionWarning: A column-vector y was passed when a 1d array was expected. Please change the shape of y to (n_samples,), for example using ravel().\n",
      "  rf.fit(x_train, y_train)\n"
     ]
    },
    {
     "name": "stdout",
     "output_type": "stream",
     "text": [
      "rmse  32422.412520971982\n",
      "\n",
      "Predecir power usando: poa y Tcell\n",
      "RMSE:  5618.401159719618\n",
      "\n",
      "Predecir power usando: poa\n"
     ]
    },
    {
     "name": "stderr",
     "output_type": "stream",
     "text": [
      "<ipython-input-147-b91efb589e7b>:18: DataConversionWarning: A column-vector y was passed when a 1d array was expected. Please change the shape of y to (n_samples,), for example using ravel().\n",
      "  rf.fit(x_train, y_train)\n"
     ]
    },
    {
     "name": "stdout",
     "output_type": "stream",
     "text": [
      "rmse  7314.533317266457\n",
      "\n",
      "Predecir power usando: Tcell\n"
     ]
    },
    {
     "name": "stderr",
     "output_type": "stream",
     "text": [
      "<ipython-input-147-b91efb589e7b>:18: DataConversionWarning: A column-vector y was passed when a 1d array was expected. Please change the shape of y to (n_samples,), for example using ravel().\n",
      "  rf.fit(x_train, y_train)\n"
     ]
    },
    {
     "name": "stdout",
     "output_type": "stream",
     "text": [
      "rmse  32422.412520971982\n",
      "\n",
      "Predecir power usando: poa y Tcell\n",
      "RMSE:  5618.401159719618\n",
      "\n",
      "Predecir power usando: poa\n"
     ]
    },
    {
     "name": "stderr",
     "output_type": "stream",
     "text": [
      "<ipython-input-147-b91efb589e7b>:18: DataConversionWarning: A column-vector y was passed when a 1d array was expected. Please change the shape of y to (n_samples,), for example using ravel().\n",
      "  rf.fit(x_train, y_train)\n"
     ]
    },
    {
     "name": "stdout",
     "output_type": "stream",
     "text": [
      "rmse  7314.533317266457\n",
      "\n",
      "Predecir power usando: Tcell\n"
     ]
    },
    {
     "name": "stderr",
     "output_type": "stream",
     "text": [
      "<ipython-input-147-b91efb589e7b>:18: DataConversionWarning: A column-vector y was passed when a 1d array was expected. Please change the shape of y to (n_samples,), for example using ravel().\n",
      "  rf.fit(x_train, y_train)\n"
     ]
    },
    {
     "name": "stdout",
     "output_type": "stream",
     "text": [
      "rmse  32422.412520971982\n",
      "\n",
      "Predecir power usando: poa y Tcell\n",
      "RMSE:  5618.401159719618\n",
      "\n",
      "Predecir power usando: poa\n"
     ]
    },
    {
     "name": "stderr",
     "output_type": "stream",
     "text": [
      "<ipython-input-147-b91efb589e7b>:18: DataConversionWarning: A column-vector y was passed when a 1d array was expected. Please change the shape of y to (n_samples,), for example using ravel().\n",
      "  rf.fit(x_train, y_train)\n"
     ]
    },
    {
     "name": "stdout",
     "output_type": "stream",
     "text": [
      "rmse  7314.533317266457\n",
      "\n",
      "Predecir power usando: Tcell\n"
     ]
    },
    {
     "name": "stderr",
     "output_type": "stream",
     "text": [
      "<ipython-input-147-b91efb589e7b>:18: DataConversionWarning: A column-vector y was passed when a 1d array was expected. Please change the shape of y to (n_samples,), for example using ravel().\n",
      "  rf.fit(x_train, y_train)\n"
     ]
    },
    {
     "name": "stdout",
     "output_type": "stream",
     "text": [
      "rmse  32422.412520971982\n",
      "\n",
      "Predecir power usando: poa y Tcell\n",
      "RMSE:  5618.401159719618\n",
      "---------------------------------\n",
      "RMSE POA:  7314.533317266457\n",
      "---------------------------------\n",
      "RMSE TCELL:  32422.412520971982\n",
      "---------------------------------\n",
      "RMSE POA Y TCELL:  5618.401159719618\n",
      "---------------------------------\n"
     ]
    }
   ],
   "source": [
    "lista_rf_rmse_poa=[]\n",
    "lista_rf_rmse_tcell=[]\n",
    "lista_rf_rmse=[]\n",
    "\n",
    "print()\n",
    "print(\"-----------------------\")\n",
    "print(\"30 ITERACIONES\")\n",
    "for i in range(30):\n",
    "    \n",
    "    rmse_poa=randomforest_simple(df1_ni, \"poa\", 200)\n",
    "    lista_rf_rmse_poa.append(rmse_poa)\n",
    "    \n",
    "    \n",
    "    rmse_tcell=randomforest_simple(df1_ni, \"Tcell\", 200)\n",
    "    lista_rf_rmse_tcell.append(rmse_tcell)\n",
    "    \n",
    "    rmse =randomforest_mul(df1_ni, 200) \n",
    "    lista_rf_rmse.append(rmse)\n",
    "\n",
    "print(\"---------------------------------\")\n",
    "#POA\n",
    "media_rf_rmse_poa = statistics.mean(lista_rf_rmse_poa)\n",
    "print(\"RMSE POA: \", media_rf_rmse_poa)\n",
    "print(\"---------------------------------\")\n",
    "\n",
    "#TCELL\n",
    "media_rf_rmse_tcell = statistics.mean(lista_rf_rmse_tcell)\n",
    "print(\"RMSE TCELL: \", media_rf_rmse_tcell)\n",
    "print(\"---------------------------------\")\n",
    "\n",
    "#POA Y TCELL\n",
    "media_rf_rmse = statistics.mean(lista_rf_rmse)\n",
    "print(\"RMSE POA Y TCELL: \", media_rf_rmse)\n",
    "print(\"---------------------------------\")"
   ]
  },
  {
   "cell_type": "markdown",
   "metadata": {},
   "source": [
    "# Optimización hiperparametros\n",
    "## Random forest: OOB y RMSE\n",
    "### n_estimators = 5 , 10, 15, ... , 190, 195, 200\n",
    "### max_features = 1, 2"
   ]
  },
  {
   "cell_type": "code",
   "execution_count": 155,
   "metadata": {},
   "outputs": [
    {
     "name": "stderr",
     "output_type": "stream",
     "text": [
      "/Users/LuisGarcia/opt/anaconda3/lib/python3.8/site-packages/sklearn/ensemble/_forest.py:832: UserWarning: Some inputs do not have OOB scores. This probably means too few trees were used to compute any reliable oob estimates.\n",
      "  warn(\"Some inputs do not have OOB scores. \"\n"
     ]
    },
    {
     "name": "stdout",
     "output_type": "stream",
     "text": [
      "n_estimators 5\n",
      "max_features 1\n",
      "modelo.oob_score_\n",
      "0.7049494965914267\n",
      "rmse_rf\n",
      "5939.391277691641\n",
      "\n"
     ]
    },
    {
     "name": "stderr",
     "output_type": "stream",
     "text": [
      "/Users/LuisGarcia/opt/anaconda3/lib/python3.8/site-packages/sklearn/ensemble/_forest.py:832: UserWarning: Some inputs do not have OOB scores. This probably means too few trees were used to compute any reliable oob estimates.\n",
      "  warn(\"Some inputs do not have OOB scores. \"\n"
     ]
    },
    {
     "name": "stdout",
     "output_type": "stream",
     "text": [
      "n_estimators 5\n",
      "max_features 2\n",
      "modelo.oob_score_\n",
      "0.7044113709101792\n",
      "rmse_rf\n",
      "6001.507195971825\n",
      "\n"
     ]
    },
    {
     "name": "stderr",
     "output_type": "stream",
     "text": [
      "/Users/LuisGarcia/opt/anaconda3/lib/python3.8/site-packages/sklearn/ensemble/_forest.py:832: UserWarning: Some inputs do not have OOB scores. This probably means too few trees were used to compute any reliable oob estimates.\n",
      "  warn(\"Some inputs do not have OOB scores. \"\n"
     ]
    },
    {
     "name": "stdout",
     "output_type": "stream",
     "text": [
      "n_estimators 10\n",
      "max_features 1\n",
      "modelo.oob_score_\n",
      "0.9580512505663838\n",
      "rmse_rf\n",
      "5761.7240790543565\n",
      "\n"
     ]
    },
    {
     "name": "stderr",
     "output_type": "stream",
     "text": [
      "/Users/LuisGarcia/opt/anaconda3/lib/python3.8/site-packages/sklearn/ensemble/_forest.py:832: UserWarning: Some inputs do not have OOB scores. This probably means too few trees were used to compute any reliable oob estimates.\n",
      "  warn(\"Some inputs do not have OOB scores. \"\n"
     ]
    },
    {
     "name": "stdout",
     "output_type": "stream",
     "text": [
      "n_estimators 10\n",
      "max_features 2\n",
      "modelo.oob_score_\n",
      "0.957936299216015\n",
      "rmse_rf\n",
      "5822.786634877036\n",
      "\n"
     ]
    },
    {
     "name": "stderr",
     "output_type": "stream",
     "text": [
      "/Users/LuisGarcia/opt/anaconda3/lib/python3.8/site-packages/sklearn/ensemble/_forest.py:832: UserWarning: Some inputs do not have OOB scores. This probably means too few trees were used to compute any reliable oob estimates.\n",
      "  warn(\"Some inputs do not have OOB scores. \"\n"
     ]
    },
    {
     "name": "stdout",
     "output_type": "stream",
     "text": [
      "n_estimators 15\n",
      "max_features 1\n",
      "modelo.oob_score_\n",
      "0.9843260766343098\n",
      "rmse_rf\n",
      "5679.1701961195695\n",
      "\n"
     ]
    },
    {
     "name": "stderr",
     "output_type": "stream",
     "text": [
      "/Users/LuisGarcia/opt/anaconda3/lib/python3.8/site-packages/sklearn/ensemble/_forest.py:832: UserWarning: Some inputs do not have OOB scores. This probably means too few trees were used to compute any reliable oob estimates.\n",
      "  warn(\"Some inputs do not have OOB scores. \"\n"
     ]
    },
    {
     "name": "stdout",
     "output_type": "stream",
     "text": [
      "n_estimators 15\n",
      "max_features 2\n",
      "modelo.oob_score_\n",
      "0.9839818211182454\n",
      "rmse_rf\n",
      "5749.348707854757\n",
      "\n"
     ]
    },
    {
     "name": "stderr",
     "output_type": "stream",
     "text": [
      "/Users/LuisGarcia/opt/anaconda3/lib/python3.8/site-packages/sklearn/ensemble/_forest.py:832: UserWarning: Some inputs do not have OOB scores. This probably means too few trees were used to compute any reliable oob estimates.\n",
      "  warn(\"Some inputs do not have OOB scores. \"\n"
     ]
    },
    {
     "name": "stdout",
     "output_type": "stream",
     "text": [
      "n_estimators 20\n",
      "max_features 1\n",
      "modelo.oob_score_\n",
      "0.9874571353906094\n",
      "rmse_rf\n",
      "5643.947869775104\n",
      "\n"
     ]
    },
    {
     "name": "stderr",
     "output_type": "stream",
     "text": [
      "/Users/LuisGarcia/opt/anaconda3/lib/python3.8/site-packages/sklearn/ensemble/_forest.py:832: UserWarning: Some inputs do not have OOB scores. This probably means too few trees were used to compute any reliable oob estimates.\n",
      "  warn(\"Some inputs do not have OOB scores. \"\n"
     ]
    },
    {
     "name": "stdout",
     "output_type": "stream",
     "text": [
      "n_estimators 20\n",
      "max_features 2\n",
      "modelo.oob_score_\n",
      "0.9869494073044758\n",
      "rmse_rf\n",
      "5708.582937176195\n",
      "\n",
      "n_estimators 25\n",
      "max_features 1\n",
      "modelo.oob_score_\n",
      "0.987868309692112\n",
      "rmse_rf\n",
      "5627.813927188701\n",
      "\n",
      "n_estimators 25\n",
      "max_features 2\n",
      "modelo.oob_score_\n",
      "0.9874200488291364\n",
      "rmse_rf\n",
      "5699.038984478788\n",
      "\n",
      "n_estimators 30\n",
      "max_features 1\n",
      "modelo.oob_score_\n",
      "0.9880489794947559\n",
      "rmse_rf\n",
      "5610.507668806632\n",
      "\n",
      "n_estimators 30\n",
      "max_features 2\n",
      "modelo.oob_score_\n",
      "0.9875846225207539\n",
      "rmse_rf\n",
      "5683.781023287893\n",
      "\n",
      "n_estimators 35\n",
      "max_features 1\n",
      "modelo.oob_score_\n",
      "0.9882046510785768\n",
      "rmse_rf\n",
      "5587.709256442021\n",
      "\n",
      "n_estimators 35\n",
      "max_features 2\n",
      "modelo.oob_score_\n",
      "0.9877661184169384\n",
      "rmse_rf\n",
      "5672.079142334278\n",
      "\n",
      "n_estimators 40\n",
      "max_features 1\n",
      "modelo.oob_score_\n",
      "0.9882874595911029\n",
      "rmse_rf\n",
      "5586.407111956332\n",
      "\n",
      "n_estimators 40\n",
      "max_features 2\n",
      "modelo.oob_score_\n",
      "0.9878685599924107\n",
      "rmse_rf\n",
      "5660.054944230911\n",
      "\n",
      "n_estimators 45\n",
      "max_features 1\n",
      "modelo.oob_score_\n",
      "0.9883710524146494\n",
      "rmse_rf\n",
      "5579.467974930981\n",
      "\n",
      "n_estimators 45\n",
      "max_features 2\n",
      "modelo.oob_score_\n",
      "0.9879202902752412\n",
      "rmse_rf\n",
      "5654.1177954125\n",
      "\n",
      "n_estimators 50\n",
      "max_features 1\n",
      "modelo.oob_score_\n",
      "0.9884267793325476\n",
      "rmse_rf\n",
      "5572.734924152942\n",
      "\n",
      "n_estimators 50\n",
      "max_features 2\n",
      "modelo.oob_score_\n",
      "0.9879893758884876\n",
      "rmse_rf\n",
      "5648.065591078993\n",
      "\n",
      "n_estimators 55\n",
      "max_features 1\n",
      "modelo.oob_score_\n",
      "0.9884696730404603\n",
      "rmse_rf\n",
      "5566.853184386384\n",
      "\n",
      "n_estimators 55\n",
      "max_features 2\n",
      "modelo.oob_score_\n",
      "0.9880197191946384\n",
      "rmse_rf\n",
      "5644.768363735928\n",
      "\n",
      "n_estimators 60\n",
      "max_features 1\n",
      "modelo.oob_score_\n",
      "0.9885315756502104\n",
      "rmse_rf\n",
      "5559.722690130776\n",
      "\n",
      "n_estimators 60\n",
      "max_features 2\n",
      "modelo.oob_score_\n",
      "0.9880639355735179\n",
      "rmse_rf\n",
      "5641.217807325105\n",
      "\n",
      "n_estimators 65\n",
      "max_features 1\n",
      "modelo.oob_score_\n",
      "0.9885674112005188\n",
      "rmse_rf\n",
      "5555.78518098324\n",
      "\n",
      "n_estimators 65\n",
      "max_features 2\n",
      "modelo.oob_score_\n",
      "0.9881073799396822\n",
      "rmse_rf\n",
      "5637.59410787832\n",
      "\n",
      "n_estimators 70\n",
      "max_features 1\n",
      "modelo.oob_score_\n",
      "0.9886004433173923\n",
      "rmse_rf\n",
      "5554.267037459448\n",
      "\n",
      "n_estimators 70\n",
      "max_features 2\n",
      "modelo.oob_score_\n",
      "0.9881364178768489\n",
      "rmse_rf\n",
      "5638.151331265822\n",
      "\n",
      "n_estimators 75\n",
      "max_features 1\n",
      "modelo.oob_score_\n",
      "0.9886272664990741\n",
      "rmse_rf\n",
      "5552.592734070064\n",
      "\n",
      "n_estimators 75\n",
      "max_features 2\n",
      "modelo.oob_score_\n",
      "0.9881519047917393\n",
      "rmse_rf\n",
      "5635.963524410456\n",
      "\n",
      "n_estimators 80\n",
      "max_features 1\n",
      "modelo.oob_score_\n",
      "0.9886461123092095\n",
      "rmse_rf\n",
      "5549.298091012047\n",
      "\n",
      "n_estimators 80\n",
      "max_features 2\n",
      "modelo.oob_score_\n",
      "0.9881490244870125\n",
      "rmse_rf\n",
      "5635.390455869585\n",
      "\n",
      "n_estimators 85\n",
      "max_features 1\n",
      "modelo.oob_score_\n",
      "0.9886549809670929\n",
      "rmse_rf\n",
      "5549.914571941295\n",
      "\n",
      "n_estimators 85\n",
      "max_features 2\n",
      "modelo.oob_score_\n",
      "0.9881714201018501\n",
      "rmse_rf\n",
      "5634.529310970028\n",
      "\n",
      "n_estimators 90\n",
      "max_features 1\n",
      "modelo.oob_score_\n",
      "0.9886571005351465\n",
      "rmse_rf\n",
      "5549.462132903957\n",
      "\n",
      "n_estimators 90\n",
      "max_features 2\n",
      "modelo.oob_score_\n",
      "0.988185879860889\n",
      "rmse_rf\n",
      "5632.831408197547\n",
      "\n",
      "n_estimators 95\n",
      "max_features 1\n",
      "modelo.oob_score_\n",
      "0.9886768907016763\n",
      "rmse_rf\n",
      "5547.451496611479\n",
      "\n",
      "n_estimators 95\n",
      "max_features 2\n",
      "modelo.oob_score_\n",
      "0.9882020489055237\n",
      "rmse_rf\n",
      "5633.45860097401\n",
      "\n",
      "n_estimators 100\n",
      "max_features 1\n",
      "modelo.oob_score_\n",
      "0.988698353440026\n",
      "rmse_rf\n",
      "5547.34924613464\n",
      "\n",
      "n_estimators 100\n",
      "max_features 2\n",
      "modelo.oob_score_\n",
      "0.9882090942846977\n",
      "rmse_rf\n",
      "5633.89376514609\n",
      "\n",
      "n_estimators 105\n",
      "max_features 1\n",
      "modelo.oob_score_\n",
      "0.9887199550898164\n",
      "rmse_rf\n",
      "5547.846471766054\n",
      "\n",
      "n_estimators 105\n",
      "max_features 2\n",
      "modelo.oob_score_\n",
      "0.9882237778590085\n",
      "rmse_rf\n",
      "5633.84514576525\n",
      "\n",
      "n_estimators 110\n",
      "max_features 1\n",
      "modelo.oob_score_\n",
      "0.9887309920058518\n",
      "rmse_rf\n",
      "5544.3648387555195\n",
      "\n",
      "n_estimators 110\n",
      "max_features 2\n",
      "modelo.oob_score_\n",
      "0.988241354314755\n",
      "rmse_rf\n",
      "5632.180259106466\n",
      "\n",
      "n_estimators 115\n",
      "max_features 1\n",
      "modelo.oob_score_\n",
      "0.9887454517284828\n",
      "rmse_rf\n",
      "5544.857518841848\n",
      "\n",
      "n_estimators 115\n",
      "max_features 2\n",
      "modelo.oob_score_\n",
      "0.9882510201425118\n",
      "rmse_rf\n",
      "5629.664445244278\n",
      "\n",
      "n_estimators 120\n",
      "max_features 1\n",
      "modelo.oob_score_\n",
      "0.9887592009869742\n",
      "rmse_rf\n",
      "5544.243701750461\n",
      "\n",
      "n_estimators 120\n",
      "max_features 2\n",
      "modelo.oob_score_\n",
      "0.9882568945172356\n",
      "rmse_rf\n",
      "5630.094929400087\n",
      "\n",
      "n_estimators 125\n",
      "max_features 1\n",
      "modelo.oob_score_\n",
      "0.988767994381837\n",
      "rmse_rf\n",
      "5542.501806601265\n",
      "\n",
      "n_estimators 125\n",
      "max_features 2\n",
      "modelo.oob_score_\n",
      "0.9882658349256925\n",
      "rmse_rf\n",
      "5630.769688726154\n",
      "\n",
      "n_estimators 130\n",
      "max_features 1\n",
      "modelo.oob_score_\n",
      "0.9887787443329793\n",
      "rmse_rf\n",
      "5541.070551165177\n",
      "\n",
      "n_estimators 130\n",
      "max_features 2\n",
      "modelo.oob_score_\n",
      "0.9882769531979909\n",
      "rmse_rf\n",
      "5627.443086760768\n",
      "\n",
      "n_estimators 135\n",
      "max_features 1\n",
      "modelo.oob_score_\n",
      "0.9887794134572657\n",
      "rmse_rf\n",
      "5540.256526006786\n",
      "\n",
      "n_estimators 135\n",
      "max_features 2\n",
      "modelo.oob_score_\n",
      "0.9882790190305317\n",
      "rmse_rf\n",
      "5626.272694492375\n",
      "\n",
      "n_estimators 140\n",
      "max_features 1\n",
      "modelo.oob_score_\n",
      "0.9887824471352965\n",
      "rmse_rf\n",
      "5540.314717564803\n",
      "\n",
      "n_estimators 140\n",
      "max_features 2\n",
      "modelo.oob_score_\n",
      "0.9882787142107251\n",
      "rmse_rf\n",
      "5625.818856401231\n",
      "\n",
      "n_estimators 145\n",
      "max_features 1\n",
      "modelo.oob_score_\n",
      "0.988786567873246\n",
      "rmse_rf\n",
      "5540.222288620376\n",
      "\n",
      "n_estimators 145\n",
      "max_features 2\n",
      "modelo.oob_score_\n",
      "0.9882807895754184\n",
      "rmse_rf\n",
      "5625.093603014633\n",
      "\n",
      "n_estimators 150\n",
      "max_features 1\n",
      "modelo.oob_score_\n",
      "0.9887968771421444\n",
      "rmse_rf\n",
      "5539.594277283713\n",
      "\n",
      "n_estimators 150\n",
      "max_features 2\n",
      "modelo.oob_score_\n",
      "0.988283061110601\n",
      "rmse_rf\n",
      "5624.5024528128415\n",
      "\n",
      "n_estimators 155\n",
      "max_features 1\n",
      "modelo.oob_score_\n",
      "0.9888043955166536\n",
      "rmse_rf\n",
      "5538.0727724294\n",
      "\n",
      "n_estimators 155\n",
      "max_features 2\n",
      "modelo.oob_score_\n",
      "0.9882881433299623\n",
      "rmse_rf\n",
      "5622.368185979357\n",
      "\n",
      "n_estimators 160\n",
      "max_features 1\n",
      "modelo.oob_score_\n",
      "0.9888118235749457\n",
      "rmse_rf\n",
      "5538.116949041905\n",
      "\n",
      "n_estimators 160\n",
      "max_features 2\n",
      "modelo.oob_score_\n",
      "0.9882930135045537\n",
      "rmse_rf\n",
      "5621.8070146573855\n",
      "\n",
      "n_estimators 165\n",
      "max_features 1\n",
      "modelo.oob_score_\n",
      "0.9888167231732733\n",
      "rmse_rf\n",
      "5536.652538577392\n",
      "\n",
      "n_estimators 165\n",
      "max_features 2\n",
      "modelo.oob_score_\n",
      "0.9882976064210448\n",
      "rmse_rf\n",
      "5619.926529745519\n",
      "\n",
      "n_estimators 170\n",
      "max_features 1\n",
      "modelo.oob_score_\n",
      "0.9888215447720751\n",
      "rmse_rf\n",
      "5535.701769047202\n",
      "\n",
      "n_estimators 170\n",
      "max_features 2\n",
      "modelo.oob_score_\n",
      "0.988298429299171\n",
      "rmse_rf\n",
      "5619.984935246096\n",
      "\n",
      "n_estimators 175\n",
      "max_features 1\n",
      "modelo.oob_score_\n",
      "0.9888284361768018\n",
      "rmse_rf\n",
      "5536.174961593878\n",
      "\n",
      "n_estimators 175\n",
      "max_features 2\n",
      "modelo.oob_score_\n",
      "0.9882957068164716\n",
      "rmse_rf\n",
      "5620.442529900925\n",
      "\n",
      "n_estimators 180\n",
      "max_features 1\n",
      "modelo.oob_score_\n",
      "0.9888302564467487\n",
      "rmse_rf\n",
      "5535.749064840961\n",
      "\n",
      "n_estimators 180\n",
      "max_features 2\n",
      "modelo.oob_score_\n",
      "0.988298964102456\n",
      "rmse_rf\n",
      "5620.238982067974\n",
      "\n",
      "n_estimators 185\n",
      "max_features 1\n",
      "modelo.oob_score_\n",
      "0.9888332719640494\n",
      "rmse_rf\n",
      "5536.46661597977\n",
      "\n",
      "n_estimators 185\n",
      "max_features 2\n",
      "modelo.oob_score_\n",
      "0.9882968875056282\n",
      "rmse_rf\n",
      "5620.319222359773\n",
      "\n",
      "n_estimators 190\n",
      "max_features 1\n",
      "modelo.oob_score_\n",
      "0.9888324020151406\n",
      "rmse_rf\n",
      "5536.488083191156\n",
      "\n",
      "n_estimators 190\n",
      "max_features 2\n",
      "modelo.oob_score_\n",
      "0.9883025689479353\n",
      "rmse_rf\n",
      "5619.53863014155\n",
      "\n",
      "n_estimators 195\n",
      "max_features 1\n",
      "modelo.oob_score_\n",
      "0.988832518523695\n",
      "rmse_rf\n",
      "5536.892920603491\n",
      "\n",
      "n_estimators 195\n",
      "max_features 2\n",
      "modelo.oob_score_\n",
      "0.9883007217468663\n",
      "rmse_rf\n",
      "5618.2788736892935\n",
      "\n",
      "-------------------------\n",
      "maximo oob_scores\n",
      "0.9888332719640494\n",
      "minimo rmse\n",
      "5535.701769047202\n",
      "-------------------------\n"
     ]
    }
   ],
   "source": [
    "# Validación empleando el Out-of-Bag error\n",
    "from sklearn.model_selection import train_test_split\n",
    "from sklearn.ensemble import RandomForestRegressor\n",
    "from sklearn.metrics import mean_squared_error\n",
    "\n",
    "def oob_error_n_estimators(df):\n",
    "    \n",
    "    y = df['power']\n",
    "    x = df.drop(['Timestamp', 'power'], axis =1)\n",
    "        \n",
    "    x_train, x_test, y_train, y_test = train_test_split(x, y, test_size = 0.3, random_state=123)\n",
    "    \n",
    "    train_scores = []\n",
    "    oob_scores   = []\n",
    "    rmse_lista = []\n",
    "\n",
    "    # Valores evaluados\n",
    "    estimator_range = range(5, 200, 5)\n",
    "    max_features_range=[1,2]\n",
    "    \n",
    "    # Bucle para entrenar un modelo con cada valor de n_estimators y extraer su error\n",
    "    # de entrenamiento y de Out-of-Bag.\n",
    "    for n_estimators in estimator_range:\n",
    "        for max_features in max_features_range:\n",
    "            modelo = RandomForestRegressor(\n",
    "                        n_estimators = n_estimators,\n",
    "                        criterion    = 'mse',\n",
    "                        max_features = max_features, \n",
    "                        oob_score    = True,\n",
    "                        n_jobs       = -1,\n",
    "                        random_state = 123 \n",
    "                     )\n",
    "            modelo.fit(x_train, y_train)\n",
    "            \n",
    "            \n",
    "            oob_scores.append(modelo.oob_score_)\n",
    "            \n",
    "            \n",
    "            y_pred = modelo.predict(x_test)\n",
    "    \n",
    "            mse_rf= mean_squared_error(y_test,y_pred)\n",
    "            rmse_rf= np.sqrt(mse_rf)\n",
    "            rmse_lista.append(rmse_rf)\n",
    "            \n",
    "            print(\"n_estimators\", n_estimators)\n",
    "            print(\"max_features\", max_features)\n",
    "            \n",
    "            print(\"modelo.oob_score_\")\n",
    "            print(modelo.oob_score_)\n",
    "            \n",
    "            print(\"rmse_rf\")\n",
    "            print(rmse_rf)\n",
    "            print()\n",
    "    \n",
    "    print(\"-------------------------\")\n",
    "    print(\"maximo oob_scores\")\n",
    "    print(max(oob_scores))\n",
    "    \n",
    "    print(\"minimo rmse\")\n",
    "    print(min(rmse_lista))\n",
    "    print(\"-------------------------\")\n",
    "\n",
    "oob_error_n_estimators(df1_ni)"
   ]
  },
  {
   "cell_type": "markdown",
   "metadata": {},
   "source": [
    "## Random forest: número de árboles\n",
    "### n_estimators = 100 , 200, 300, 400 , 500, 600"
   ]
  },
  {
   "cell_type": "code",
   "execution_count": 156,
   "metadata": {},
   "outputs": [
    {
     "data": {
      "image/png": "[encoded data removed]",
      "text/plain": [
       "<Figure size 864x432 with 1 Axes>"
      ]
     },
     "metadata": {
      "needs_background": "light"
     },
     "output_type": "display_data"
    }
   ],
   "source": [
    "def grafica_n_estimators(lista_itera, lista_rmse, rmse):\n",
    "    \n",
    "    fig, ax = plt.subplots(figsize=(12, 6))\n",
    "    ax.plot(lista_itera, lista_rmse)\n",
    "    ax.set_title('n_estimatos vs ' + rmse, fontsize=14)\n",
    "    ax.set_ylabel(rmse, fontsize=14)\n",
    "    ax.set_xlabel('n_estimators', fontsize=14)\n",
    "    \n",
    "    nombre_img=\"opt_nestimators\" + \".png\"\n",
    "    plt.savefig(path_ima + nombre_img)\n",
    "        \n",
    "def opt_nestimators_rf(df, arboles_iniciales, arboles_finales, arboles_salto):\n",
    "    \n",
    "\n",
    "    y = df['power']\n",
    "    x = df.drop(['Timestamp', 'power'], axis =1)\n",
    "    \n",
    "    x_train, x_test, y_train, y_test = train_test_split(x, y, test_size=0.30, random_state=123)\n",
    "    \n",
    "    rf = RandomForestRegressor(n_estimators=arboles_iniciales)\n",
    "    \n",
    "    lista_rmse=[]\n",
    "    lista_itera=[]\n",
    "    \n",
    "    itera=arboles_iniciales\n",
    "\n",
    "    while itera <= arboles_finales:\n",
    "        \n",
    "        rf.fit(x_train, y_train)\n",
    "        \n",
    "        y_pred = rf.predict(x_test)\n",
    "        \n",
    "        mse_test = mean_squared_error(y_test, y_pred)\n",
    "        rmse_test=np.sqrt(mse_test)\n",
    "        \n",
    "        lista_rmse.append(rmse_test)\n",
    "        lista_itera.append(itera)\n",
    "        \n",
    "        itera += arboles_salto\n",
    "        rf.n_estimators += arboles_salto\n",
    "        \n",
    "    grafica_n_estimators(lista_itera, lista_rmse, \"rmse\")\n",
    "    \n",
    "\n",
    "opt_nestimators_rf(df1_ni, arboles_iniciales=100, arboles_finales=600, arboles_salto=100)"
   ]
  },
  {
   "cell_type": "markdown",
   "metadata": {},
   "source": [
    "## Out Of Bag Error  hiperparametros óptimos"
   ]
  },
  {
   "cell_type": "code",
   "execution_count": 157,
   "metadata": {},
   "outputs": [
    {
     "name": "stdout",
     "output_type": "stream",
     "text": [
      "RESULTADOS\n",
      "      oob_r2  max_depth  max_features  n_estimators\n",
      "7   0.989902          8             2           300\n",
      "6   0.989901          8             2           280\n",
      "5   0.989899          8             2           260\n",
      "15  0.989899          9             2           300\n",
      "4   0.989898          8             2           240\n",
      "14  0.989897          9             2           280\n",
      "13  0.989895          9             2           260\n",
      "12  0.989895          9             2           240\n",
      "19  0.989848         10             1           300\n",
      "18  0.989841         10             1           280\n",
      "16  0.989834         10             1           240\n",
      "17  0.989833         10             1           260\n",
      "27  0.989825         12             1           300\n",
      "26  0.989822         12             1           280\n",
      "25  0.989814         12             1           260\n",
      "23  0.989807         10             2           300\n",
      "24  0.989806         12             1           240\n",
      "22  0.989805         10             2           280\n",
      "21  0.989801         10             2           260\n",
      "20  0.989799         10             2           240\n",
      "11  0.989663          9             1           300\n",
      "10  0.989650          9             1           280\n",
      "9   0.989640          9             1           260\n",
      "35  0.989626         14             1           300\n",
      "8   0.989626          9             1           240\n",
      "32  0.989624         14             1           240\n",
      "33  0.989622         14             1           260\n",
      "34  0.989621         14             1           280\n",
      "31  0.989529         12             2           300\n",
      "30  0.989524         12             2           280\n",
      "29  0.989517         12             2           260\n",
      "28  0.989512         12             2           240\n",
      "3   0.989230          8             1           300\n",
      "39  0.989224         14             2           300\n",
      "38  0.989217         14             2           280\n",
      "37  0.989210         14             2           260\n",
      "36  0.989204         14             2           240\n",
      "2   0.989202          8             1           280\n",
      "0   0.989191          8             1           240\n",
      "1   0.989186          8             1           260\n"
     ]
    }
   ],
   "source": [
    "from sklearn.model_selection import ParameterGrid\n",
    "#OUT OF BAG ERROR\n",
    "def oob_error_grid_search(df):\n",
    "    \n",
    "    y = df['power']\n",
    "    x = df.drop(['Timestamp', 'power'], axis =1)\n",
    "        \n",
    "    x_train, x_test, y_train, y_test = train_test_split(x, y, test_size = 0.3, random_state=123)\n",
    "    \n",
    "    # Grid de hiperparámetros evaluados\n",
    "\n",
    "    param_grid = ParameterGrid(\n",
    "                    {'n_estimators': [240, 260, 280, 300], #Puede ser que si subo mucho n_estimators, con las pocas características que tengo, sobreajuste mi modelo\n",
    "                     'max_features': [1, 2], #n_estimators alto --> overfitting\n",
    "                     'max_depth'   : [8, 9, 10, 12, 14]\n",
    "                    }\n",
    "                 )\n",
    "\n",
    "\n",
    "    resultados = {'params': [], 'oob_r2': []}\n",
    "    \n",
    "    for params in param_grid:\n",
    "\n",
    "        modelo = RandomForestRegressor(oob_score= True, n_jobs = -1, random_state = 123, ** params)\n",
    "\n",
    "        modelo.fit(x_train, y_train)\n",
    "\n",
    "        resultados['params'].append(params)\n",
    "        resultados['oob_r2'].append(modelo.oob_score_)\n",
    "        \n",
    "\n",
    "    resultados = pd.DataFrame(resultados)\n",
    "    resultados = pd.concat([resultados, resultados['params'].apply(pd.Series)], axis=1)\n",
    "    resultados = resultados.drop(columns = 'params')\n",
    "    resultados = resultados.sort_values('oob_r2', ascending=False)\n",
    "\n",
    "    \n",
    "    print(\"RESULTADOS\")\n",
    "    print(resultados)\n",
    "    \n",
    "oob_error_grid_search(df1_ni)"
   ]
  },
  {
   "cell_type": "markdown",
   "metadata": {},
   "source": [
    "## Resultados Out Of Bag Error hiperparametros óptimos\n",
    "\n",
    "\n",
    "n_estimators=300, max_depth=9, max_features=2\n",
    "\n",
    "\n",
    "oob-r2= 0.990347\n",
    "\n",
    "rmse = 5447.68835"
   ]
  },
  {
   "cell_type": "markdown",
   "metadata": {},
   "source": [
    "## Gridsearch Cross Validation"
   ]
  },
  {
   "cell_type": "code",
   "execution_count": 158,
   "metadata": {},
   "outputs": [
    {
     "name": "stdout",
     "output_type": "stream",
     "text": [
      "Mejores hiperparámetros VALIDACIÓN CRUZADA: \n",
      "\n",
      "{'max_depth': 8, 'max_features': 2, 'n_estimators': 300}\n",
      "RMSE:  5252.878813982094\n"
     ]
    }
   ],
   "source": [
    "from sklearn.model_selection import GridSearchCV\n",
    "from sklearn.model_selection import RepeatedKFold\n",
    "\n",
    "#VALIDACIÓN CRUZADA\n",
    "def cross_val_grid_search(df):\n",
    "    \n",
    "    y = df['power']\n",
    "    x = df.drop(['Timestamp', 'power'], axis =1)\n",
    "        \n",
    "    x_train, x_test, y_train, y_test = train_test_split(x, y, test_size = 0.3, random_state=123)\n",
    "    \n",
    "    # Hiperparámetros evaluados\n",
    "    param_grid = {\n",
    "                  'n_estimators': [240, 260, 280, 300],\n",
    "                  'max_features': [1, 2],\n",
    "                  'max_depth'   : [None, 8,9,10,12,14]\n",
    "                 }\n",
    "\n",
    "    # Búsqueda por grid search con validación cruzada\n",
    "    grid = GridSearchCV(\n",
    "            estimator  = RandomForestRegressor(random_state = 123),\n",
    "            param_grid = param_grid,\n",
    "            scoring    = 'neg_root_mean_squared_error',\n",
    "            n_jobs     = - 1,\n",
    "            cv         = RepeatedKFold(n_splits=5, n_repeats=3, random_state=123), \n",
    "            refit      = True,\n",
    "            verbose    = 0,\n",
    "            return_train_score = True\n",
    "           )\n",
    "\n",
    "    grid.fit(X = x_train, y = y_train)\n",
    "        \n",
    "    print(\"Mejores hiperparámetros VALIDACIÓN CRUZADA: \\n\")\n",
    "    print(grid.best_params_) \n",
    "\n",
    "    # Error \n",
    "    modelo_final = grid.best_estimator_\n",
    "    predicciones = modelo_final.predict(X = x_test)\n",
    "    rmse = mean_squared_error(\n",
    "            y_true  = y_test,\n",
    "            y_pred  = predicciones,\n",
    "            squared = False\n",
    "           )\n",
    "    \n",
    "    print(\"RMSE: \", rmse)\n",
    "    \n",
    "\n",
    "cross_val_grid_search(df1_ni)"
   ]
  },
  {
   "cell_type": "markdown",
   "metadata": {},
   "source": [
    "## Resultados Gridsearch Cross Validation\n",
    "#### neg_root_mean_squared_error\n",
    "param_grid = {'n_estimators': [100,150,200], 'max_features': [1, 2],'max_depth': [None, 8,9,10,12,14, 20]}\n",
    "\n",
    "\n",
    "{'max_depth': 9, 'max_features': 2, 'n_estimators': 200}\n",
    "RMSE:  5448.342382963492\n",
    "\n",
    "----\n",
    "\n",
    "param_grid = {'n_estimators': [240, 260, 280, 300],'max_features': [1, 2],'max_depth'   : [None, 8,9,10,12,14]}\n",
    "\n",
    "{'max_depth': 9, 'max_features': 2, 'n_estimators': 300}\n",
    "RMSE:  5447.688354200674\n",
    "\n"
   ]
  },
  {
   "cell_type": "markdown",
   "metadata": {},
   "source": [
    "## Comprobación de resultados"
   ]
  },
  {
   "cell_type": "code",
   "execution_count": 162,
   "metadata": {},
   "outputs": [],
   "source": [
    "def randomforest_mul_gs(df, n_estimators, max_depth, max_features):\n",
    "    print()\n",
    "    print(\"Predecir power usando: poa y Tcell\")\n",
    "    \n",
    "    y = df['power']\n",
    "    x = df.drop(['Timestamp', 'power'], axis =1)\n",
    "    x_train, x_test, y_train, y_test = train_test_split(x, y, test_size = 0.3, random_state=123)\n",
    "    \n",
    "\n",
    "    rf=RandomForestRegressor(n_estimators=n_estimators, max_depth=max_depth, max_features=max_features,random_state = 123, oob_score = True, n_jobs= -1)\n",
    "    \n",
    "    rf.fit(x_train, y_train)\n",
    "        \n",
    "    y_pred = rf.predict(x_test)\n",
    "    \n",
    "    mse_rf= mean_squared_error(y_test,y_pred)\n",
    "    rmse_rf= np.sqrt(mse_rf)\n",
    "    \n",
    "    oob=rf.oob_score_\n",
    "      \n",
    "    print('RMSE: ', rmse_rf)\n",
    "    print(\"oob: \", oob)\n",
    "\n",
    "    return rmse_rf"
   ]
  },
  {
   "cell_type": "code",
   "execution_count": 163,
   "metadata": {},
   "outputs": [
    {
     "name": "stdout",
     "output_type": "stream",
     "text": [
      "\n",
      "Predecir power usando: poa y Tcell\n",
      "RMSE:  5252.878813982094\n",
      "oob:  0.989902147834426\n"
     ]
    },
    {
     "data": {
      "text/plain": [
       "5252.878813982094"
      ]
     },
     "execution_count": 163,
     "metadata": {},
     "output_type": "execute_result"
    }
   ],
   "source": [
    "randomforest_mul_gs(df1_ni, 300, 8, 2)"
   ]
  },
  {
   "cell_type": "code",
   "execution_count": 164,
   "metadata": {},
   "outputs": [
    {
     "name": "stdout",
     "output_type": "stream",
     "text": [
      "\n",
      "Predecir power usando: poa y Tcell\n",
      "RMSE:  5243.543475476418\n",
      "oob:  0.9898986450006168\n"
     ]
    },
    {
     "data": {
      "text/plain": [
       "5243.543475476418"
      ]
     },
     "execution_count": 164,
     "metadata": {},
     "output_type": "execute_result"
    }
   ],
   "source": [
    "randomforest_mul_gs(df1_ni, 300, 9, 2)"
   ]
  },
  {
   "cell_type": "markdown",
   "metadata": {},
   "source": [
    "## Comprobación resultados RMSE y OOB \n",
    "\n",
    "### randomforest_mul_gs(df1_ni, 200, 10, 1)\n",
    "\n",
    "RMSE:  5469.084043588865\n",
    "\n",
    "oob:  0.9902493308515141\n",
    "\n",
    "\n",
    "### randomforest_mul_gs(df1_ni, 300, 9, 2)\n",
    "\n",
    "RMSE:  5447.688354200674\n",
    "\n",
    "oob:  0.9903474954714597"
   ]
  },
  {
   "cell_type": "markdown",
   "metadata": {},
   "source": [
    "# Predecir un dia con los dias anteriores\n",
    "\n",
    "Ahora quiero predecir un día  a partir de sus anteriores\n",
    "\n",
    "Para ello voy a pasarle el dataframe y el tipo de modelo que se va a aplicar: regresion o random\n",
    "\n",
    "En ambos casos se va a predecir la potencia utilizando la temperatura (Tcell) y la radiación (poa)"
   ]
  },
  {
   "cell_type": "code",
   "execution_count": 160,
   "metadata": {},
   "outputs": [
    {
     "name": "stdout",
     "output_type": "stream",
     "text": [
      "En el dia: 2013-05-04 tenemos: 56 muestras\n",
      "Desde el 2013-01-01, hasta: 2013-05-04\n",
      "         poa  Tcell\n",
      "0       6.02   1.87\n",
      "1      32.03   2.40\n",
      "2      53.33   3.20\n",
      "3      88.55   3.16\n",
      "4     229.69   6.77\n",
      "...      ...    ...\n",
      "5083   71.02  20.22\n",
      "5084   47.81  20.08\n",
      "5085   27.87  19.35\n",
      "5086   14.90  18.74\n",
      "5087   11.56  18.21\n",
      "\n",
      "[559 rows x 2 columns]\n",
      "En el dia: 2013-05-04 tenemos: 56 muestras\n",
      "Desde el 2013-01-01, hasta: 2013-05-04\n",
      "         poa  Tcell\n",
      "0       6.02   1.87\n",
      "1      32.03   2.40\n",
      "2      53.33   3.20\n",
      "3      88.55   3.16\n",
      "4     229.69   6.77\n",
      "...      ...    ...\n",
      "5083   71.02  20.22\n",
      "5084   47.81  20.08\n",
      "5085   27.87  19.35\n",
      "5086   14.90  18.74\n",
      "5087   11.56  18.21\n",
      "\n",
      "[559 rows x 2 columns]\n"
     ]
    },
    {
     "data": {
      "image/png": "[encoded data removed]",
      "text/plain": [
       "<Figure size 1440x864 with 1 Axes>"
      ]
     },
     "metadata": {
      "needs_background": "light"
     },
     "output_type": "display_data"
    },
    {
     "data": {
      "image/png": "[encoded data removed]",
      "text/plain": [
       "<Figure size 1440x864 with 1 Axes>"
      ]
     },
     "metadata": {
      "needs_background": "light"
     },
     "output_type": "display_data"
    }
   ],
   "source": [
    "def predecir_un_dia(df, modelo, year, month, day):\n",
    "    \n",
    "    df_otro=df\n",
    "    \n",
    "    df_otro['Timestamp'] = pd.to_datetime(df_otro.Timestamp)\n",
    "    df_otro[\"Año\"] = df_otro[\"Timestamp\"].dt.strftime(\"%Y\")\n",
    "    df_otro[\"Mes\"] = df_otro[\"Timestamp\"].dt.strftime(\"%m\")\n",
    "    df_otro[\"Dia\"] = df_otro[\"Timestamp\"].dt.strftime(\"%d\")\n",
    "    \n",
    "    #df_otro[\"Hora\"] = df_otro[\"Timestamp\"].dt.strftime(\"%H\")\n",
    "    df_otro[\"Hora_min\"] = df_otro[\"Timestamp\"].dt.strftime(\"%H:%M\")\n",
    "\n",
    "    mask_antes = (df_otro.Año <= year) & (df_otro.Mes <= month) & (df_otro.Dia < day)\n",
    "    mask_dia = (df_otro.Año == year) & (df_otro.Mes == month) & (df_otro.Dia == day)\n",
    "    \n",
    "    potencia_dia=df_otro[\"power\"].loc[mask_dia] #Potencia REAL el dia que se va a predecir\n",
    "    #hora_dia=df_otro['Hora'].loc[mask_dia] #HORAS del día que se va a predecir\n",
    "    hora_dia=df_otro['Hora_min'].loc[mask_dia] #HORAS del día que se va a predecir\n",
    "    \n",
    "    tam_dia= len(hora_dia)\n",
    "    print( \"En el dia: \" + year + \"-\" + month + \"-\" + day + \" tenemos: \" + str(tam_dia) + \" muestras\")\n",
    "    \n",
    "    #Miramos cuales son los valores de radiación y temperatura  el día que se van a predecir\n",
    "    valor_poa=df_otro['poa'].loc[mask_dia]\n",
    "    valor_tcell=df_otro['Tcell'].loc[mask_dia]\n",
    "        \n",
    "    poa_tcell=np.array([valor_poa, valor_tcell])\n",
    "    #print('poa_tcell.shape' , poa_tcell.shape)\n",
    "    \n",
    "    poa_tcell_resized=np.transpose(poa_tcell)\n",
    "    #print('poa_tcell_resized.shape' , poa_tcell_resized.shape)\n",
    "    \n",
    "    '''\n",
    "    #ESTO NO ES UN ÚNICO VALOR, SON TODOS LOS VALORES DE POA Y TCELL EN ESE DIA A DIFERENTES HORAS.\n",
    "    print( \"El \" + year + \"-\" + month + \"-\" + day)\n",
    "    print(\"POA = \" + str(valor_poa) + \" y un TCELL = \" + str(valor_tcell))\n",
    "    '''\n",
    "    \n",
    "    #Entrenamos con los datos de antes de ese dia: mask_antes\n",
    "    y = df_otro['power'].loc[mask_antes]\n",
    "    x=df_otro.loc[mask_antes]\n",
    "    x = x.drop(['Timestamp', 'Año' ,'Mes', 'Dia', 'Hora_min', 'power'], axis =1)\n",
    "    \n",
    "    print( \"Desde el 2013-01-01, hasta: \" + year + \"-\" + month + \"-\" + day)\n",
    "    print(x)\n",
    "    \n",
    "    x_train, x_test, y_train, y_test = train_test_split(x, y, test_size = 0.3, random_state=123)\n",
    "    \n",
    "    \n",
    "    if modelo == \"regresion\":\n",
    "        regr = linear_model.LinearRegression()\n",
    "        regr.fit(x_train, y_train)\n",
    "        potencia_predicha=regr.predict(poa_tcell_resized) #Potencia PREDICHA el dia que se va a predecir\n",
    "        \n",
    "    if modelo == \"random\":\n",
    "        #SE UTILIZA EL MEJOR MODELO\n",
    "        rf=RandomForestRegressor(n_estimators=300, max_depth=9, max_features=2,random_state = 123, n_jobs= -1)\n",
    "        rf.fit(x_train, y_train)\n",
    "        potencia_predicha=rf.predict(poa_tcell_resized) #Potencia PREDICHA el dia que se va a predecir\n",
    "    \n",
    "    #potencia_dia, hora_dia, valor_poa y valor_tcell deben tener la misma dimensión\n",
    "    #La dimensión de estos es el número de muestras que tengamos el día que se desea predecir.\n",
    "    \n",
    "    #plotear\n",
    "    fig, ax = plt.subplots(figsize=(20,12))\n",
    "    \n",
    "    #REAL\n",
    "    ax.plot(hora_dia, potencia_dia, label=\"Potencia real\")\n",
    "    #PREDICHO\n",
    "    ax.plot(hora_dia, potencia_predicha, label=\"Potencia predicha\")\n",
    "    \n",
    "    ax.tick_params(labelrotation=90)\n",
    "    titulo= \" \" + year + \"-\" + month + \"-\" + day\n",
    "    ax.title.set_text(modelo + titulo)\n",
    "    fig.legend(loc = 'upper right')\n",
    "    \n",
    "    nombre_img=\"predecir_un_dia_\" + modelo + \".png\"\n",
    "    plt.savefig(path_ima + nombre_img)\n",
    "        \n",
    "predecir_un_dia(df1_ni, \"regresion\", \"2013\", \"05\", \"04\")\n",
    "predecir_un_dia(df1_ni, \"random\", \"2013\", \"05\", \"04\")"
   ]
  },
  {
   "cell_type": "code",
   "execution_count": null,
   "metadata": {},
   "outputs": [],
   "source": []
  }
 ],
 "metadata": {
  "kernelspec": {
   "display_name": "Python 3",
   "language": "python",
   "name": "python3"
  },
  "language_info": {
   "codemirror_mode": {
    "name": "ipython",
    "version": 3
   },
   "file_extension": ".py",
   "mimetype": "text/x-python",
   "name": "python",
   "nbconvert_exporter": "python",
   "pygments_lexer": "ipython3",
   "version": "3.8.3"
  }
 },
 "nbformat": 4,
 "nbformat_minor": 4
}
